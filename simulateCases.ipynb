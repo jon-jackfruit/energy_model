{
 "cells": [
  {
   "cell_type": "code",
   "execution_count": 1,
   "metadata": {},
   "outputs": [
    {
     "name": "stdout",
     "output_type": "stream",
     "text": [
      "Simulating the following scenarios\n",
      "    Scenario Solar profile Load profile Grid profile  Annual load (kWh)  \\\n",
      "0          0        mysore        day-2     day-3hrs              30000   \n",
      "1          1        mysore        day-2     day-3hrs              30000   \n",
      "2          2        mysore        day-2     day-3hrs              30000   \n",
      "3          3        mysore        day-2     day-3hrs              30000   \n",
      "4          4        mysore        day-2     day-3hrs              30000   \n",
      "5          5        mysore        day-2     day-3hrs              30000   \n",
      "6          6        mysore        day-2     day-3hrs              30000   \n",
      "7          7        mysore        day-2     day-2hrs              30000   \n",
      "8          8        mysore        day-2         none              30000   \n",
      "9          9        mysore        day-2     day-3hrs              30000   \n",
      "10        10        mysore        day-2     day-4hrs              30000   \n",
      "11        11        mysore        day-2     day-5hrs              30000   \n",
      "12        12        mysore        day-2     day-2hrs              30000   \n",
      "13        13        mysore        day-2         none              30000   \n",
      "14        14        mysore        day-2     day-5hrs              30000   \n",
      "15        15        mysore        day-2     day-6hrs              30000   \n",
      "16        16        mysore        day-2     day-6hrs              30000   \n",
      "\n",
      "    Solar to load ratio  Hybrid/Offgrid (1/0)  Cycle battery  \\\n",
      "0                   0.0                     0              0   \n",
      "1                   0.0                     0              1   \n",
      "2                   1.0                     0              1   \n",
      "3                   1.0                     1              0   \n",
      "4                   1.5                     1              0   \n",
      "5                   1.5                     1              0   \n",
      "6                   1.5                     1              0   \n",
      "7                   1.5                     1              0   \n",
      "8                   1.5                     1              0   \n",
      "9                   1.0                     1              0   \n",
      "10                  1.0                     1              0   \n",
      "11                  1.0                     1              0   \n",
      "12                  1.0                     1              0   \n",
      "13                  1.0                     1              0   \n",
      "14                  1.0                     0              1   \n",
      "15                  1.0                     1              0   \n",
      "16                  1.0                     0              1   \n",
      "\n",
      "    Night-time backup (hrs)  Export tariff (INR/kWh)  \n",
      "0                         4                        0  \n",
      "1                         4                        0  \n",
      "2                         4                        0  \n",
      "3                         4                        0  \n",
      "4                         4                        0  \n",
      "5                         4                        2  \n",
      "6                         4                        4  \n",
      "7                         4                        4  \n",
      "8                         4                        4  \n",
      "9                         4                        0  \n",
      "10                        4                        0  \n",
      "11                        4                        0  \n",
      "12                        4                        0  \n",
      "13                        4                        0  \n",
      "14                        4                        0  \n",
      "15                        4                        0  \n",
      "16                        4                        0  \n",
      "to fix for non-mysore projects\n",
      "25\n",
      "to fix for non-mysore projects\n",
      "25\n",
      "to fix for non-mysore projects\n",
      "25\n",
      "to fix for non-mysore projects\n",
      "25\n",
      "to fix for non-mysore projects\n",
      "25\n",
      "to fix for non-mysore projects\n",
      "25\n",
      "to fix for non-mysore projects\n",
      "25\n",
      "to fix for non-mysore projects\n",
      "25\n",
      "to fix for non-mysore projects\n",
      "25\n",
      "to fix for non-mysore projects\n",
      "25\n",
      "to fix for non-mysore projects\n",
      "25\n",
      "to fix for non-mysore projects\n",
      "25\n",
      "to fix for non-mysore projects\n",
      "25\n",
      "to fix for non-mysore projects\n",
      "25\n",
      "to fix for non-mysore projects\n",
      "25\n",
      "to fix for non-mysore projects\n",
      "25\n",
      "to fix for non-mysore projects\n",
      "25\n"
     ]
    }
   ],
   "source": [
    "import simulation_models\n",
    "import pandas as pd\n",
    "import os\n",
    "\n",
    "root_folder = 'sims1'\n",
    "if not os.path.exists(root_folder):\n",
    "    os.mkdir(root_folder)\n",
    "\n",
    "\n",
    "scenarios = pd.read_excel(root_folder + '/inputs.xlsx',sheet_name='scenarios')\n",
    "\n",
    "load_profiles = pd.read_excel(root_folder + '/inputs.xlsx', sheet_name='load_profiles')\n",
    "grid_profiles = pd.read_excel(root_folder + '/inputs.xlsx', sheet_name='grid_profiles')\n",
    "solar_profiles = pd.read_excel(root_folder + '/inputs.xlsx', sheet_name='solar_profiles')\n",
    "\n",
    "simulation_inputs = [None] * len(scenarios)\n",
    "\n",
    "for i in range(len(scenarios)):\n",
    "    simulation_inputs[i] = {\n",
    "        'annual_demand_kWh': scenarios['Annual load (kWh)'][i],\n",
    "        'solar_profile': solar_profiles[scenarios['Solar profile'][i]].tolist(),\n",
    "        'load_profile': load_profiles[scenarios['Load profile'][i]].tolist(),\n",
    "        'grid_profile':  grid_profiles[scenarios['Grid profile'][i]].tolist(),\n",
    "        'pv_to_load_ratio': scenarios['Solar to load ratio'][i],\n",
    "        'hybrid_system': int(scenarios['Hybrid/Offgrid (1/0)'][i])*True,\n",
    "        'cycle_battery': int(scenarios['Cycle battery'][i])*True,\n",
    "        'peak_demand_backup_hrs': scenarios['Night-time backup (hrs)'][i],\n",
    "        'export_tariff': scenarios['Export tariff (INR/kWh)'][i]\n",
    "    }\n",
    "\n",
    "print('Simulating the following scenarios')\n",
    "print(scenarios)\n",
    "\n",
    "# Save inputs to csv\n",
    "df = pd.DataFrame.from_dict(simulation_inputs)\n",
    "df.to_csv(root_folder + '/input_table.csv')\n",
    "\n",
    "\n",
    "sims = simulation_models.Simulations(\n",
    "    simulation_inputs = simulation_inputs\n",
    ")\n",
    "\n",
    "sims.run_simulations()\n",
    "\n",
    "sims.create_graphs(root_folder = root_folder, export_png = False, export_html = False)\n",
    "sims.create_output_table(root_folder = root_folder)\n"
   ]
  },
  {
   "cell_type": "code",
   "execution_count": 4,
   "metadata": {},
   "outputs": [
    {
     "data": {
      "application/vnd.plotly.v1+json": {
       "config": {
        "plotlyServerURL": "https://plot.ly"
       },
       "data": [
        {
         "marker": {
          "color": "#fec22f"
         },
         "name": "Grid to load",
         "offsetgroup": "0",
         "type": "bar",
         "x": [
          "2023-07-01T00:00:00",
          "2023-07-01T01:00:00",
          "2023-07-01T02:00:00",
          "2023-07-01T03:00:00",
          "2023-07-01T04:00:00",
          "2023-07-01T05:00:00",
          "2023-07-01T06:00:00",
          "2023-07-01T07:00:00",
          "2023-07-01T08:00:00",
          "2023-07-01T09:00:00",
          "2023-07-01T10:00:00",
          "2023-07-01T11:00:00",
          "2023-07-01T12:00:00",
          "2023-07-01T13:00:00",
          "2023-07-01T14:00:00",
          "2023-07-01T15:00:00",
          "2023-07-01T16:00:00",
          "2023-07-01T17:00:00",
          "2023-07-01T18:00:00",
          "2023-07-01T19:00:00",
          "2023-07-01T20:00:00",
          "2023-07-01T21:00:00",
          "2023-07-01T22:00:00",
          "2023-07-01T23:00:00"
         ],
         "y": [
          2.05338809034907,
          2.05338809034907,
          2.05338809034907,
          1.026694045174535,
          2.05338809034907,
          2.05338809034907,
          1.663965664001567,
          0.33353769672089895,
          0,
          0,
          0,
          0,
          0,
          0,
          0,
          0,
          3.4373486407467175,
          3.7941504470339273,
          5.0555857394859745,
          3.080082135523605,
          2.05338809034907,
          2.05338809034907,
          2.05338809034907,
          2.05338809034907
         ]
        },
        {
         "base": [
          2.05338809034907,
          2.05338809034907,
          2.05338809034907,
          1.026694045174535,
          2.05338809034907,
          2.05338809034907,
          1.663965664001567,
          0.33353769672089895,
          0,
          0,
          0,
          0,
          0,
          0,
          0,
          0,
          3.4373486407467175,
          3.7941504470339273,
          5.0555857394859745,
          3.080082135523605,
          2.05338809034907,
          2.05338809034907,
          2.05338809034907,
          2.05338809034907
         ],
         "marker": {
          "color": "#9abca7"
         },
         "name": "Grid to battery",
         "offsetgroup": "0",
         "type": "bar",
         "x": [
          "2023-07-01T00:00:00",
          "2023-07-01T01:00:00",
          "2023-07-01T02:00:00",
          "2023-07-01T03:00:00",
          "2023-07-01T04:00:00",
          "2023-07-01T05:00:00",
          "2023-07-01T06:00:00",
          "2023-07-01T07:00:00",
          "2023-07-01T08:00:00",
          "2023-07-01T09:00:00",
          "2023-07-01T10:00:00",
          "2023-07-01T11:00:00",
          "2023-07-01T12:00:00",
          "2023-07-01T13:00:00",
          "2023-07-01T14:00:00",
          "2023-07-01T15:00:00",
          "2023-07-01T16:00:00",
          "2023-07-01T17:00:00",
          "2023-07-01T18:00:00",
          "2023-07-01T19:00:00",
          "2023-07-01T20:00:00",
          "2023-07-01T21:00:00",
          "2023-07-01T22:00:00",
          "2023-07-01T23:00:00"
         ],
         "y": [
          0,
          0,
          0,
          0,
          0,
          0,
          0,
          0,
          0,
          0,
          0,
          0,
          0,
          0,
          0,
          0,
          0,
          0,
          0,
          0,
          0,
          0,
          0,
          0
         ]
        },
        {
         "marker": {
          "color": "#d75602"
         },
         "name": "Grid from PV (export)",
         "offsetgroup": "0",
         "type": "bar",
         "x": [
          "2023-07-01T00:00:00",
          "2023-07-01T01:00:00",
          "2023-07-01T02:00:00",
          "2023-07-01T03:00:00",
          "2023-07-01T04:00:00",
          "2023-07-01T05:00:00",
          "2023-07-01T06:00:00",
          "2023-07-01T07:00:00",
          "2023-07-01T08:00:00",
          "2023-07-01T09:00:00",
          "2023-07-01T10:00:00",
          "2023-07-01T11:00:00",
          "2023-07-01T12:00:00",
          "2023-07-01T13:00:00",
          "2023-07-01T14:00:00",
          "2023-07-01T15:00:00",
          "2023-07-01T16:00:00",
          "2023-07-01T17:00:00",
          "2023-07-01T18:00:00",
          "2023-07-01T19:00:00",
          "2023-07-01T20:00:00",
          "2023-07-01T21:00:00",
          "2023-07-01T22:00:00",
          "2023-07-01T23:00:00"
         ],
         "y": [
          0,
          0,
          0,
          0,
          0,
          0,
          0,
          0,
          -1.8219725400051916,
          -0.300763941272208,
          0,
          0,
          0,
          0,
          0,
          -2.8138885777088154,
          0,
          0,
          0,
          0,
          0,
          0,
          0,
          0
         ]
        },
        {
         "marker": {
          "color": "#272635"
         },
         "name": "Grid",
         "type": "scatter",
         "x": [
          "2023-07-01T00:00:00",
          "2023-07-01T01:00:00",
          "2023-07-01T02:00:00",
          "2023-07-01T03:00:00",
          "2023-07-01T04:00:00",
          "2023-07-01T05:00:00",
          "2023-07-01T06:00:00",
          "2023-07-01T07:00:00",
          "2023-07-01T08:00:00",
          "2023-07-01T09:00:00",
          "2023-07-01T10:00:00",
          "2023-07-01T11:00:00",
          "2023-07-01T12:00:00",
          "2023-07-01T13:00:00",
          "2023-07-01T14:00:00",
          "2023-07-01T15:00:00",
          "2023-07-01T16:00:00",
          "2023-07-01T17:00:00",
          "2023-07-01T18:00:00",
          "2023-07-01T19:00:00",
          "2023-07-01T20:00:00",
          "2023-07-01T21:00:00",
          "2023-07-01T22:00:00",
          "2023-07-01T23:00:00"
         ],
         "y": [
          2.05338809034907,
          2.05338809034907,
          2.05338809034907,
          1.026694045174535,
          2.05338809034907,
          2.05338809034907,
          1.663965664001567,
          0.33353769672089895,
          -1.8219725400051916,
          -0.300763941272208,
          0,
          0,
          0,
          0,
          0,
          -2.8138885777088154,
          3.4373486407467175,
          3.7941504470339273,
          5.0555857394859745,
          3.080082135523605,
          2.05338809034907,
          2.05338809034907,
          2.05338809034907,
          2.05338809034907
         ]
        }
       ],
       "layout": {
        "legend": {
         "orientation": "h"
        },
        "template": {
         "data": {
          "bar": [
           {
            "error_x": {
             "color": "#2a3f5f"
            },
            "error_y": {
             "color": "#2a3f5f"
            },
            "marker": {
             "line": {
              "color": "#E5ECF6",
              "width": 0.5
             },
             "pattern": {
              "fillmode": "overlay",
              "size": 10,
              "solidity": 0.2
             }
            },
            "type": "bar"
           }
          ],
          "barpolar": [
           {
            "marker": {
             "line": {
              "color": "#E5ECF6",
              "width": 0.5
             },
             "pattern": {
              "fillmode": "overlay",
              "size": 10,
              "solidity": 0.2
             }
            },
            "type": "barpolar"
           }
          ],
          "carpet": [
           {
            "aaxis": {
             "endlinecolor": "#2a3f5f",
             "gridcolor": "white",
             "linecolor": "white",
             "minorgridcolor": "white",
             "startlinecolor": "#2a3f5f"
            },
            "baxis": {
             "endlinecolor": "#2a3f5f",
             "gridcolor": "white",
             "linecolor": "white",
             "minorgridcolor": "white",
             "startlinecolor": "#2a3f5f"
            },
            "type": "carpet"
           }
          ],
          "choropleth": [
           {
            "colorbar": {
             "outlinewidth": 0,
             "ticks": ""
            },
            "type": "choropleth"
           }
          ],
          "contour": [
           {
            "colorbar": {
             "outlinewidth": 0,
             "ticks": ""
            },
            "colorscale": [
             [
              0,
              "#0d0887"
             ],
             [
              0.1111111111111111,
              "#46039f"
             ],
             [
              0.2222222222222222,
              "#7201a8"
             ],
             [
              0.3333333333333333,
              "#9c179e"
             ],
             [
              0.4444444444444444,
              "#bd3786"
             ],
             [
              0.5555555555555556,
              "#d8576b"
             ],
             [
              0.6666666666666666,
              "#ed7953"
             ],
             [
              0.7777777777777778,
              "#fb9f3a"
             ],
             [
              0.8888888888888888,
              "#fdca26"
             ],
             [
              1,
              "#f0f921"
             ]
            ],
            "type": "contour"
           }
          ],
          "contourcarpet": [
           {
            "colorbar": {
             "outlinewidth": 0,
             "ticks": ""
            },
            "type": "contourcarpet"
           }
          ],
          "heatmap": [
           {
            "colorbar": {
             "outlinewidth": 0,
             "ticks": ""
            },
            "colorscale": [
             [
              0,
              "#0d0887"
             ],
             [
              0.1111111111111111,
              "#46039f"
             ],
             [
              0.2222222222222222,
              "#7201a8"
             ],
             [
              0.3333333333333333,
              "#9c179e"
             ],
             [
              0.4444444444444444,
              "#bd3786"
             ],
             [
              0.5555555555555556,
              "#d8576b"
             ],
             [
              0.6666666666666666,
              "#ed7953"
             ],
             [
              0.7777777777777778,
              "#fb9f3a"
             ],
             [
              0.8888888888888888,
              "#fdca26"
             ],
             [
              1,
              "#f0f921"
             ]
            ],
            "type": "heatmap"
           }
          ],
          "heatmapgl": [
           {
            "colorbar": {
             "outlinewidth": 0,
             "ticks": ""
            },
            "colorscale": [
             [
              0,
              "#0d0887"
             ],
             [
              0.1111111111111111,
              "#46039f"
             ],
             [
              0.2222222222222222,
              "#7201a8"
             ],
             [
              0.3333333333333333,
              "#9c179e"
             ],
             [
              0.4444444444444444,
              "#bd3786"
             ],
             [
              0.5555555555555556,
              "#d8576b"
             ],
             [
              0.6666666666666666,
              "#ed7953"
             ],
             [
              0.7777777777777778,
              "#fb9f3a"
             ],
             [
              0.8888888888888888,
              "#fdca26"
             ],
             [
              1,
              "#f0f921"
             ]
            ],
            "type": "heatmapgl"
           }
          ],
          "histogram": [
           {
            "marker": {
             "pattern": {
              "fillmode": "overlay",
              "size": 10,
              "solidity": 0.2
             }
            },
            "type": "histogram"
           }
          ],
          "histogram2d": [
           {
            "colorbar": {
             "outlinewidth": 0,
             "ticks": ""
            },
            "colorscale": [
             [
              0,
              "#0d0887"
             ],
             [
              0.1111111111111111,
              "#46039f"
             ],
             [
              0.2222222222222222,
              "#7201a8"
             ],
             [
              0.3333333333333333,
              "#9c179e"
             ],
             [
              0.4444444444444444,
              "#bd3786"
             ],
             [
              0.5555555555555556,
              "#d8576b"
             ],
             [
              0.6666666666666666,
              "#ed7953"
             ],
             [
              0.7777777777777778,
              "#fb9f3a"
             ],
             [
              0.8888888888888888,
              "#fdca26"
             ],
             [
              1,
              "#f0f921"
             ]
            ],
            "type": "histogram2d"
           }
          ],
          "histogram2dcontour": [
           {
            "colorbar": {
             "outlinewidth": 0,
             "ticks": ""
            },
            "colorscale": [
             [
              0,
              "#0d0887"
             ],
             [
              0.1111111111111111,
              "#46039f"
             ],
             [
              0.2222222222222222,
              "#7201a8"
             ],
             [
              0.3333333333333333,
              "#9c179e"
             ],
             [
              0.4444444444444444,
              "#bd3786"
             ],
             [
              0.5555555555555556,
              "#d8576b"
             ],
             [
              0.6666666666666666,
              "#ed7953"
             ],
             [
              0.7777777777777778,
              "#fb9f3a"
             ],
             [
              0.8888888888888888,
              "#fdca26"
             ],
             [
              1,
              "#f0f921"
             ]
            ],
            "type": "histogram2dcontour"
           }
          ],
          "mesh3d": [
           {
            "colorbar": {
             "outlinewidth": 0,
             "ticks": ""
            },
            "type": "mesh3d"
           }
          ],
          "parcoords": [
           {
            "line": {
             "colorbar": {
              "outlinewidth": 0,
              "ticks": ""
             }
            },
            "type": "parcoords"
           }
          ],
          "pie": [
           {
            "automargin": true,
            "type": "pie"
           }
          ],
          "scatter": [
           {
            "fillpattern": {
             "fillmode": "overlay",
             "size": 10,
             "solidity": 0.2
            },
            "type": "scatter"
           }
          ],
          "scatter3d": [
           {
            "line": {
             "colorbar": {
              "outlinewidth": 0,
              "ticks": ""
             }
            },
            "marker": {
             "colorbar": {
              "outlinewidth": 0,
              "ticks": ""
             }
            },
            "type": "scatter3d"
           }
          ],
          "scattercarpet": [
           {
            "marker": {
             "colorbar": {
              "outlinewidth": 0,
              "ticks": ""
             }
            },
            "type": "scattercarpet"
           }
          ],
          "scattergeo": [
           {
            "marker": {
             "colorbar": {
              "outlinewidth": 0,
              "ticks": ""
             }
            },
            "type": "scattergeo"
           }
          ],
          "scattergl": [
           {
            "marker": {
             "colorbar": {
              "outlinewidth": 0,
              "ticks": ""
             }
            },
            "type": "scattergl"
           }
          ],
          "scattermapbox": [
           {
            "marker": {
             "colorbar": {
              "outlinewidth": 0,
              "ticks": ""
             }
            },
            "type": "scattermapbox"
           }
          ],
          "scatterpolar": [
           {
            "marker": {
             "colorbar": {
              "outlinewidth": 0,
              "ticks": ""
             }
            },
            "type": "scatterpolar"
           }
          ],
          "scatterpolargl": [
           {
            "marker": {
             "colorbar": {
              "outlinewidth": 0,
              "ticks": ""
             }
            },
            "type": "scatterpolargl"
           }
          ],
          "scatterternary": [
           {
            "marker": {
             "colorbar": {
              "outlinewidth": 0,
              "ticks": ""
             }
            },
            "type": "scatterternary"
           }
          ],
          "surface": [
           {
            "colorbar": {
             "outlinewidth": 0,
             "ticks": ""
            },
            "colorscale": [
             [
              0,
              "#0d0887"
             ],
             [
              0.1111111111111111,
              "#46039f"
             ],
             [
              0.2222222222222222,
              "#7201a8"
             ],
             [
              0.3333333333333333,
              "#9c179e"
             ],
             [
              0.4444444444444444,
              "#bd3786"
             ],
             [
              0.5555555555555556,
              "#d8576b"
             ],
             [
              0.6666666666666666,
              "#ed7953"
             ],
             [
              0.7777777777777778,
              "#fb9f3a"
             ],
             [
              0.8888888888888888,
              "#fdca26"
             ],
             [
              1,
              "#f0f921"
             ]
            ],
            "type": "surface"
           }
          ],
          "table": [
           {
            "cells": {
             "fill": {
              "color": "#EBF0F8"
             },
             "line": {
              "color": "white"
             }
            },
            "header": {
             "fill": {
              "color": "#C8D4E3"
             },
             "line": {
              "color": "white"
             }
            },
            "type": "table"
           }
          ]
         },
         "layout": {
          "annotationdefaults": {
           "arrowcolor": "#2a3f5f",
           "arrowhead": 0,
           "arrowwidth": 1
          },
          "autotypenumbers": "strict",
          "coloraxis": {
           "colorbar": {
            "outlinewidth": 0,
            "ticks": ""
           }
          },
          "colorscale": {
           "diverging": [
            [
             0,
             "#8e0152"
            ],
            [
             0.1,
             "#c51b7d"
            ],
            [
             0.2,
             "#de77ae"
            ],
            [
             0.3,
             "#f1b6da"
            ],
            [
             0.4,
             "#fde0ef"
            ],
            [
             0.5,
             "#f7f7f7"
            ],
            [
             0.6,
             "#e6f5d0"
            ],
            [
             0.7,
             "#b8e186"
            ],
            [
             0.8,
             "#7fbc41"
            ],
            [
             0.9,
             "#4d9221"
            ],
            [
             1,
             "#276419"
            ]
           ],
           "sequential": [
            [
             0,
             "#0d0887"
            ],
            [
             0.1111111111111111,
             "#46039f"
            ],
            [
             0.2222222222222222,
             "#7201a8"
            ],
            [
             0.3333333333333333,
             "#9c179e"
            ],
            [
             0.4444444444444444,
             "#bd3786"
            ],
            [
             0.5555555555555556,
             "#d8576b"
            ],
            [
             0.6666666666666666,
             "#ed7953"
            ],
            [
             0.7777777777777778,
             "#fb9f3a"
            ],
            [
             0.8888888888888888,
             "#fdca26"
            ],
            [
             1,
             "#f0f921"
            ]
           ],
           "sequentialminus": [
            [
             0,
             "#0d0887"
            ],
            [
             0.1111111111111111,
             "#46039f"
            ],
            [
             0.2222222222222222,
             "#7201a8"
            ],
            [
             0.3333333333333333,
             "#9c179e"
            ],
            [
             0.4444444444444444,
             "#bd3786"
            ],
            [
             0.5555555555555556,
             "#d8576b"
            ],
            [
             0.6666666666666666,
             "#ed7953"
            ],
            [
             0.7777777777777778,
             "#fb9f3a"
            ],
            [
             0.8888888888888888,
             "#fdca26"
            ],
            [
             1,
             "#f0f921"
            ]
           ]
          },
          "colorway": [
           "#636efa",
           "#EF553B",
           "#00cc96",
           "#ab63fa",
           "#FFA15A",
           "#19d3f3",
           "#FF6692",
           "#B6E880",
           "#FF97FF",
           "#FECB52"
          ],
          "font": {
           "color": "#2a3f5f"
          },
          "geo": {
           "bgcolor": "white",
           "lakecolor": "white",
           "landcolor": "#E5ECF6",
           "showlakes": true,
           "showland": true,
           "subunitcolor": "white"
          },
          "hoverlabel": {
           "align": "left"
          },
          "hovermode": "closest",
          "mapbox": {
           "style": "light"
          },
          "paper_bgcolor": "white",
          "plot_bgcolor": "#E5ECF6",
          "polar": {
           "angularaxis": {
            "gridcolor": "white",
            "linecolor": "white",
            "ticks": ""
           },
           "bgcolor": "#E5ECF6",
           "radialaxis": {
            "gridcolor": "white",
            "linecolor": "white",
            "ticks": ""
           }
          },
          "scene": {
           "xaxis": {
            "backgroundcolor": "#E5ECF6",
            "gridcolor": "white",
            "gridwidth": 2,
            "linecolor": "white",
            "showbackground": true,
            "ticks": "",
            "zerolinecolor": "white"
           },
           "yaxis": {
            "backgroundcolor": "#E5ECF6",
            "gridcolor": "white",
            "gridwidth": 2,
            "linecolor": "white",
            "showbackground": true,
            "ticks": "",
            "zerolinecolor": "white"
           },
           "zaxis": {
            "backgroundcolor": "#E5ECF6",
            "gridcolor": "white",
            "gridwidth": 2,
            "linecolor": "white",
            "showbackground": true,
            "ticks": "",
            "zerolinecolor": "white"
           }
          },
          "shapedefaults": {
           "line": {
            "color": "#2a3f5f"
           }
          },
          "ternary": {
           "aaxis": {
            "gridcolor": "white",
            "linecolor": "white",
            "ticks": ""
           },
           "baxis": {
            "gridcolor": "white",
            "linecolor": "white",
            "ticks": ""
           },
           "bgcolor": "#E5ECF6",
           "caxis": {
            "gridcolor": "white",
            "linecolor": "white",
            "ticks": ""
           }
          },
          "title": {
           "x": 0.05
          },
          "xaxis": {
           "automargin": true,
           "gridcolor": "white",
           "linecolor": "white",
           "ticks": "",
           "title": {
            "standoff": 15
           },
           "zerolinecolor": "white",
           "zerolinewidth": 2
          },
          "yaxis": {
           "automargin": true,
           "gridcolor": "white",
           "linecolor": "white",
           "ticks": "",
           "title": {
            "standoff": 15
           },
           "zerolinecolor": "white",
           "zerolinewidth": 2
          }
         }
        },
        "yaxis": {
         "title": {
          "text": "Energy (kWh)"
         }
        }
       }
      }
     },
     "metadata": {},
     "output_type": "display_data"
    },
    {
     "data": {
      "application/vnd.plotly.v1+json": {
       "config": {
        "plotlyServerURL": "https://plot.ly"
       },
       "data": [
        {
         "marker": {
          "color": "#d75602"
         },
         "name": "PV to load",
         "offsetgroup": "0",
         "type": "bar",
         "x": [
          "2023-07-01T00:00:00",
          "2023-07-01T01:00:00",
          "2023-07-01T02:00:00",
          "2023-07-01T03:00:00",
          "2023-07-01T04:00:00",
          "2023-07-01T05:00:00",
          "2023-07-01T06:00:00",
          "2023-07-01T07:00:00",
          "2023-07-01T08:00:00",
          "2023-07-01T09:00:00",
          "2023-07-01T10:00:00",
          "2023-07-01T11:00:00",
          "2023-07-01T12:00:00",
          "2023-07-01T13:00:00",
          "2023-07-01T14:00:00",
          "2023-07-01T15:00:00",
          "2023-07-01T16:00:00",
          "2023-07-01T17:00:00",
          "2023-07-01T18:00:00",
          "2023-07-01T19:00:00",
          "2023-07-01T20:00:00",
          "2023-07-01T21:00:00",
          "2023-07-01T22:00:00",
          "2023-07-01T23:00:00"
         ],
         "y": [
          0,
          0,
          0,
          0,
          0,
          0,
          0.389422426347503,
          2.7465444388027063,
          4.10677618069814,
          5.133470225872675,
          5.133470225872675,
          5.133470225872675,
          4.10677618069814,
          4.10677618069814,
          4.10677618069814,
          5.133470225872675,
          2.722815630300493,
          2.366013824013283,
          0.0778844863867006,
          0,
          0,
          0,
          0,
          0
         ]
        },
        {
         "base": [
          0,
          0,
          0,
          0,
          0,
          0,
          0.389422426347503,
          2.7465444388027063,
          4.10677618069814,
          5.133470225872675,
          5.133470225872675,
          5.133470225872675,
          4.10677618069814,
          4.10677618069814,
          4.10677618069814,
          5.133470225872675,
          2.722815630300493,
          2.366013824013283,
          0.0778844863867006,
          0,
          0,
          0,
          0,
          0
         ],
         "marker": {
          "color": "#9abca7"
         },
         "name": "Battery to load",
         "offsetgroup": "0",
         "type": "bar",
         "x": [
          "2023-07-01T00:00:00",
          "2023-07-01T01:00:00",
          "2023-07-01T02:00:00",
          "2023-07-01T03:00:00",
          "2023-07-01T04:00:00",
          "2023-07-01T05:00:00",
          "2023-07-01T06:00:00",
          "2023-07-01T07:00:00",
          "2023-07-01T08:00:00",
          "2023-07-01T09:00:00",
          "2023-07-01T10:00:00",
          "2023-07-01T11:00:00",
          "2023-07-01T12:00:00",
          "2023-07-01T13:00:00",
          "2023-07-01T14:00:00",
          "2023-07-01T15:00:00",
          "2023-07-01T16:00:00",
          "2023-07-01T17:00:00",
          "2023-07-01T18:00:00",
          "2023-07-01T19:00:00",
          "2023-07-01T20:00:00",
          "2023-07-01T21:00:00",
          "2023-07-01T22:00:00",
          "2023-07-01T23:00:00"
         ],
         "y": [
          0,
          0,
          0,
          0,
          0,
          0,
          0,
          0,
          0,
          0,
          0,
          0,
          0,
          0,
          0,
          0,
          0,
          0,
          1.5265566588595902e-16,
          0,
          0,
          0,
          0,
          0
         ]
        },
        {
         "base": [
          0,
          0,
          0,
          0,
          0,
          0,
          0.389422426347503,
          2.7465444388027063,
          4.10677618069814,
          5.133470225872675,
          5.133470225872675,
          5.133470225872675,
          4.10677618069814,
          4.10677618069814,
          4.10677618069814,
          5.133470225872675,
          2.722815630300493,
          2.366013824013283,
          0.07788448638670076,
          0,
          0,
          0,
          0,
          0
         ],
         "marker": {
          "color": "#272635"
         },
         "name": "Grid to load",
         "offsetgroup": "0",
         "type": "bar",
         "x": [
          "2023-07-01T00:00:00",
          "2023-07-01T01:00:00",
          "2023-07-01T02:00:00",
          "2023-07-01T03:00:00",
          "2023-07-01T04:00:00",
          "2023-07-01T05:00:00",
          "2023-07-01T06:00:00",
          "2023-07-01T07:00:00",
          "2023-07-01T08:00:00",
          "2023-07-01T09:00:00",
          "2023-07-01T10:00:00",
          "2023-07-01T11:00:00",
          "2023-07-01T12:00:00",
          "2023-07-01T13:00:00",
          "2023-07-01T14:00:00",
          "2023-07-01T15:00:00",
          "2023-07-01T16:00:00",
          "2023-07-01T17:00:00",
          "2023-07-01T18:00:00",
          "2023-07-01T19:00:00",
          "2023-07-01T20:00:00",
          "2023-07-01T21:00:00",
          "2023-07-01T22:00:00",
          "2023-07-01T23:00:00"
         ],
         "y": [
          2.05338809034907,
          2.05338809034907,
          2.05338809034907,
          1.026694045174535,
          2.05338809034907,
          2.05338809034907,
          1.663965664001567,
          0.33353769672089895,
          0,
          0,
          0,
          0,
          0,
          0,
          0,
          0,
          3.4373486407467175,
          3.7941504470339273,
          5.0555857394859745,
          3.080082135523605,
          2.05338809034907,
          2.05338809034907,
          2.05338809034907,
          2.05338809034907
         ]
        },
        {
         "marker": {
          "color": "#fec22f"
         },
         "name": "Load",
         "type": "scatter",
         "x": [
          "2023-07-01T00:00:00",
          "2023-07-01T01:00:00",
          "2023-07-01T02:00:00",
          "2023-07-01T03:00:00",
          "2023-07-01T04:00:00",
          "2023-07-01T05:00:00",
          "2023-07-01T06:00:00",
          "2023-07-01T07:00:00",
          "2023-07-01T08:00:00",
          "2023-07-01T09:00:00",
          "2023-07-01T10:00:00",
          "2023-07-01T11:00:00",
          "2023-07-01T12:00:00",
          "2023-07-01T13:00:00",
          "2023-07-01T14:00:00",
          "2023-07-01T15:00:00",
          "2023-07-01T16:00:00",
          "2023-07-01T17:00:00",
          "2023-07-01T18:00:00",
          "2023-07-01T19:00:00",
          "2023-07-01T20:00:00",
          "2023-07-01T21:00:00",
          "2023-07-01T22:00:00",
          "2023-07-01T23:00:00"
         ],
         "y": [
          2.05338809034907,
          2.05338809034907,
          2.05338809034907,
          1.026694045174535,
          2.05338809034907,
          2.05338809034907,
          2.05338809034907,
          3.080082135523605,
          4.10677618069814,
          5.133470225872675,
          5.133470225872675,
          5.133470225872675,
          4.10677618069814,
          4.10677618069814,
          4.10677618069814,
          5.133470225872675,
          6.16016427104721,
          6.16016427104721,
          5.133470225872675,
          3.080082135523605,
          2.05338809034907,
          2.05338809034907,
          2.05338809034907,
          2.05338809034907
         ]
        }
       ],
       "layout": {
        "legend": {
         "orientation": "h"
        },
        "template": {
         "data": {
          "bar": [
           {
            "error_x": {
             "color": "#2a3f5f"
            },
            "error_y": {
             "color": "#2a3f5f"
            },
            "marker": {
             "line": {
              "color": "#E5ECF6",
              "width": 0.5
             },
             "pattern": {
              "fillmode": "overlay",
              "size": 10,
              "solidity": 0.2
             }
            },
            "type": "bar"
           }
          ],
          "barpolar": [
           {
            "marker": {
             "line": {
              "color": "#E5ECF6",
              "width": 0.5
             },
             "pattern": {
              "fillmode": "overlay",
              "size": 10,
              "solidity": 0.2
             }
            },
            "type": "barpolar"
           }
          ],
          "carpet": [
           {
            "aaxis": {
             "endlinecolor": "#2a3f5f",
             "gridcolor": "white",
             "linecolor": "white",
             "minorgridcolor": "white",
             "startlinecolor": "#2a3f5f"
            },
            "baxis": {
             "endlinecolor": "#2a3f5f",
             "gridcolor": "white",
             "linecolor": "white",
             "minorgridcolor": "white",
             "startlinecolor": "#2a3f5f"
            },
            "type": "carpet"
           }
          ],
          "choropleth": [
           {
            "colorbar": {
             "outlinewidth": 0,
             "ticks": ""
            },
            "type": "choropleth"
           }
          ],
          "contour": [
           {
            "colorbar": {
             "outlinewidth": 0,
             "ticks": ""
            },
            "colorscale": [
             [
              0,
              "#0d0887"
             ],
             [
              0.1111111111111111,
              "#46039f"
             ],
             [
              0.2222222222222222,
              "#7201a8"
             ],
             [
              0.3333333333333333,
              "#9c179e"
             ],
             [
              0.4444444444444444,
              "#bd3786"
             ],
             [
              0.5555555555555556,
              "#d8576b"
             ],
             [
              0.6666666666666666,
              "#ed7953"
             ],
             [
              0.7777777777777778,
              "#fb9f3a"
             ],
             [
              0.8888888888888888,
              "#fdca26"
             ],
             [
              1,
              "#f0f921"
             ]
            ],
            "type": "contour"
           }
          ],
          "contourcarpet": [
           {
            "colorbar": {
             "outlinewidth": 0,
             "ticks": ""
            },
            "type": "contourcarpet"
           }
          ],
          "heatmap": [
           {
            "colorbar": {
             "outlinewidth": 0,
             "ticks": ""
            },
            "colorscale": [
             [
              0,
              "#0d0887"
             ],
             [
              0.1111111111111111,
              "#46039f"
             ],
             [
              0.2222222222222222,
              "#7201a8"
             ],
             [
              0.3333333333333333,
              "#9c179e"
             ],
             [
              0.4444444444444444,
              "#bd3786"
             ],
             [
              0.5555555555555556,
              "#d8576b"
             ],
             [
              0.6666666666666666,
              "#ed7953"
             ],
             [
              0.7777777777777778,
              "#fb9f3a"
             ],
             [
              0.8888888888888888,
              "#fdca26"
             ],
             [
              1,
              "#f0f921"
             ]
            ],
            "type": "heatmap"
           }
          ],
          "heatmapgl": [
           {
            "colorbar": {
             "outlinewidth": 0,
             "ticks": ""
            },
            "colorscale": [
             [
              0,
              "#0d0887"
             ],
             [
              0.1111111111111111,
              "#46039f"
             ],
             [
              0.2222222222222222,
              "#7201a8"
             ],
             [
              0.3333333333333333,
              "#9c179e"
             ],
             [
              0.4444444444444444,
              "#bd3786"
             ],
             [
              0.5555555555555556,
              "#d8576b"
             ],
             [
              0.6666666666666666,
              "#ed7953"
             ],
             [
              0.7777777777777778,
              "#fb9f3a"
             ],
             [
              0.8888888888888888,
              "#fdca26"
             ],
             [
              1,
              "#f0f921"
             ]
            ],
            "type": "heatmapgl"
           }
          ],
          "histogram": [
           {
            "marker": {
             "pattern": {
              "fillmode": "overlay",
              "size": 10,
              "solidity": 0.2
             }
            },
            "type": "histogram"
           }
          ],
          "histogram2d": [
           {
            "colorbar": {
             "outlinewidth": 0,
             "ticks": ""
            },
            "colorscale": [
             [
              0,
              "#0d0887"
             ],
             [
              0.1111111111111111,
              "#46039f"
             ],
             [
              0.2222222222222222,
              "#7201a8"
             ],
             [
              0.3333333333333333,
              "#9c179e"
             ],
             [
              0.4444444444444444,
              "#bd3786"
             ],
             [
              0.5555555555555556,
              "#d8576b"
             ],
             [
              0.6666666666666666,
              "#ed7953"
             ],
             [
              0.7777777777777778,
              "#fb9f3a"
             ],
             [
              0.8888888888888888,
              "#fdca26"
             ],
             [
              1,
              "#f0f921"
             ]
            ],
            "type": "histogram2d"
           }
          ],
          "histogram2dcontour": [
           {
            "colorbar": {
             "outlinewidth": 0,
             "ticks": ""
            },
            "colorscale": [
             [
              0,
              "#0d0887"
             ],
             [
              0.1111111111111111,
              "#46039f"
             ],
             [
              0.2222222222222222,
              "#7201a8"
             ],
             [
              0.3333333333333333,
              "#9c179e"
             ],
             [
              0.4444444444444444,
              "#bd3786"
             ],
             [
              0.5555555555555556,
              "#d8576b"
             ],
             [
              0.6666666666666666,
              "#ed7953"
             ],
             [
              0.7777777777777778,
              "#fb9f3a"
             ],
             [
              0.8888888888888888,
              "#fdca26"
             ],
             [
              1,
              "#f0f921"
             ]
            ],
            "type": "histogram2dcontour"
           }
          ],
          "mesh3d": [
           {
            "colorbar": {
             "outlinewidth": 0,
             "ticks": ""
            },
            "type": "mesh3d"
           }
          ],
          "parcoords": [
           {
            "line": {
             "colorbar": {
              "outlinewidth": 0,
              "ticks": ""
             }
            },
            "type": "parcoords"
           }
          ],
          "pie": [
           {
            "automargin": true,
            "type": "pie"
           }
          ],
          "scatter": [
           {
            "fillpattern": {
             "fillmode": "overlay",
             "size": 10,
             "solidity": 0.2
            },
            "type": "scatter"
           }
          ],
          "scatter3d": [
           {
            "line": {
             "colorbar": {
              "outlinewidth": 0,
              "ticks": ""
             }
            },
            "marker": {
             "colorbar": {
              "outlinewidth": 0,
              "ticks": ""
             }
            },
            "type": "scatter3d"
           }
          ],
          "scattercarpet": [
           {
            "marker": {
             "colorbar": {
              "outlinewidth": 0,
              "ticks": ""
             }
            },
            "type": "scattercarpet"
           }
          ],
          "scattergeo": [
           {
            "marker": {
             "colorbar": {
              "outlinewidth": 0,
              "ticks": ""
             }
            },
            "type": "scattergeo"
           }
          ],
          "scattergl": [
           {
            "marker": {
             "colorbar": {
              "outlinewidth": 0,
              "ticks": ""
             }
            },
            "type": "scattergl"
           }
          ],
          "scattermapbox": [
           {
            "marker": {
             "colorbar": {
              "outlinewidth": 0,
              "ticks": ""
             }
            },
            "type": "scattermapbox"
           }
          ],
          "scatterpolar": [
           {
            "marker": {
             "colorbar": {
              "outlinewidth": 0,
              "ticks": ""
             }
            },
            "type": "scatterpolar"
           }
          ],
          "scatterpolargl": [
           {
            "marker": {
             "colorbar": {
              "outlinewidth": 0,
              "ticks": ""
             }
            },
            "type": "scatterpolargl"
           }
          ],
          "scatterternary": [
           {
            "marker": {
             "colorbar": {
              "outlinewidth": 0,
              "ticks": ""
             }
            },
            "type": "scatterternary"
           }
          ],
          "surface": [
           {
            "colorbar": {
             "outlinewidth": 0,
             "ticks": ""
            },
            "colorscale": [
             [
              0,
              "#0d0887"
             ],
             [
              0.1111111111111111,
              "#46039f"
             ],
             [
              0.2222222222222222,
              "#7201a8"
             ],
             [
              0.3333333333333333,
              "#9c179e"
             ],
             [
              0.4444444444444444,
              "#bd3786"
             ],
             [
              0.5555555555555556,
              "#d8576b"
             ],
             [
              0.6666666666666666,
              "#ed7953"
             ],
             [
              0.7777777777777778,
              "#fb9f3a"
             ],
             [
              0.8888888888888888,
              "#fdca26"
             ],
             [
              1,
              "#f0f921"
             ]
            ],
            "type": "surface"
           }
          ],
          "table": [
           {
            "cells": {
             "fill": {
              "color": "#EBF0F8"
             },
             "line": {
              "color": "white"
             }
            },
            "header": {
             "fill": {
              "color": "#C8D4E3"
             },
             "line": {
              "color": "white"
             }
            },
            "type": "table"
           }
          ]
         },
         "layout": {
          "annotationdefaults": {
           "arrowcolor": "#2a3f5f",
           "arrowhead": 0,
           "arrowwidth": 1
          },
          "autotypenumbers": "strict",
          "coloraxis": {
           "colorbar": {
            "outlinewidth": 0,
            "ticks": ""
           }
          },
          "colorscale": {
           "diverging": [
            [
             0,
             "#8e0152"
            ],
            [
             0.1,
             "#c51b7d"
            ],
            [
             0.2,
             "#de77ae"
            ],
            [
             0.3,
             "#f1b6da"
            ],
            [
             0.4,
             "#fde0ef"
            ],
            [
             0.5,
             "#f7f7f7"
            ],
            [
             0.6,
             "#e6f5d0"
            ],
            [
             0.7,
             "#b8e186"
            ],
            [
             0.8,
             "#7fbc41"
            ],
            [
             0.9,
             "#4d9221"
            ],
            [
             1,
             "#276419"
            ]
           ],
           "sequential": [
            [
             0,
             "#0d0887"
            ],
            [
             0.1111111111111111,
             "#46039f"
            ],
            [
             0.2222222222222222,
             "#7201a8"
            ],
            [
             0.3333333333333333,
             "#9c179e"
            ],
            [
             0.4444444444444444,
             "#bd3786"
            ],
            [
             0.5555555555555556,
             "#d8576b"
            ],
            [
             0.6666666666666666,
             "#ed7953"
            ],
            [
             0.7777777777777778,
             "#fb9f3a"
            ],
            [
             0.8888888888888888,
             "#fdca26"
            ],
            [
             1,
             "#f0f921"
            ]
           ],
           "sequentialminus": [
            [
             0,
             "#0d0887"
            ],
            [
             0.1111111111111111,
             "#46039f"
            ],
            [
             0.2222222222222222,
             "#7201a8"
            ],
            [
             0.3333333333333333,
             "#9c179e"
            ],
            [
             0.4444444444444444,
             "#bd3786"
            ],
            [
             0.5555555555555556,
             "#d8576b"
            ],
            [
             0.6666666666666666,
             "#ed7953"
            ],
            [
             0.7777777777777778,
             "#fb9f3a"
            ],
            [
             0.8888888888888888,
             "#fdca26"
            ],
            [
             1,
             "#f0f921"
            ]
           ]
          },
          "colorway": [
           "#636efa",
           "#EF553B",
           "#00cc96",
           "#ab63fa",
           "#FFA15A",
           "#19d3f3",
           "#FF6692",
           "#B6E880",
           "#FF97FF",
           "#FECB52"
          ],
          "font": {
           "color": "#2a3f5f"
          },
          "geo": {
           "bgcolor": "white",
           "lakecolor": "white",
           "landcolor": "#E5ECF6",
           "showlakes": true,
           "showland": true,
           "subunitcolor": "white"
          },
          "hoverlabel": {
           "align": "left"
          },
          "hovermode": "closest",
          "mapbox": {
           "style": "light"
          },
          "paper_bgcolor": "white",
          "plot_bgcolor": "#E5ECF6",
          "polar": {
           "angularaxis": {
            "gridcolor": "white",
            "linecolor": "white",
            "ticks": ""
           },
           "bgcolor": "#E5ECF6",
           "radialaxis": {
            "gridcolor": "white",
            "linecolor": "white",
            "ticks": ""
           }
          },
          "scene": {
           "xaxis": {
            "backgroundcolor": "#E5ECF6",
            "gridcolor": "white",
            "gridwidth": 2,
            "linecolor": "white",
            "showbackground": true,
            "ticks": "",
            "zerolinecolor": "white"
           },
           "yaxis": {
            "backgroundcolor": "#E5ECF6",
            "gridcolor": "white",
            "gridwidth": 2,
            "linecolor": "white",
            "showbackground": true,
            "ticks": "",
            "zerolinecolor": "white"
           },
           "zaxis": {
            "backgroundcolor": "#E5ECF6",
            "gridcolor": "white",
            "gridwidth": 2,
            "linecolor": "white",
            "showbackground": true,
            "ticks": "",
            "zerolinecolor": "white"
           }
          },
          "shapedefaults": {
           "line": {
            "color": "#2a3f5f"
           }
          },
          "ternary": {
           "aaxis": {
            "gridcolor": "white",
            "linecolor": "white",
            "ticks": ""
           },
           "baxis": {
            "gridcolor": "white",
            "linecolor": "white",
            "ticks": ""
           },
           "bgcolor": "#E5ECF6",
           "caxis": {
            "gridcolor": "white",
            "linecolor": "white",
            "ticks": ""
           }
          },
          "title": {
           "x": 0.05
          },
          "xaxis": {
           "automargin": true,
           "gridcolor": "white",
           "linecolor": "white",
           "ticks": "",
           "title": {
            "standoff": 15
           },
           "zerolinecolor": "white",
           "zerolinewidth": 2
          },
          "yaxis": {
           "automargin": true,
           "gridcolor": "white",
           "linecolor": "white",
           "ticks": "",
           "title": {
            "standoff": 15
           },
           "zerolinecolor": "white",
           "zerolinewidth": 2
          }
         }
        },
        "yaxis": {
         "title": {
          "text": "Energy (kWh)"
         }
        }
       }
      }
     },
     "metadata": {},
     "output_type": "display_data"
    },
    {
     "data": {
      "application/vnd.plotly.v1+json": {
       "config": {
        "plotlyServerURL": "https://plot.ly"
       },
       "data": [
        {
         "marker": {
          "color": "#fec22f"
         },
         "name": "PV to load",
         "offsetgroup": "0",
         "type": "bar",
         "x": [
          "2023-07-01T00:00:00",
          "2023-07-01T01:00:00",
          "2023-07-01T02:00:00",
          "2023-07-01T03:00:00",
          "2023-07-01T04:00:00",
          "2023-07-01T05:00:00",
          "2023-07-01T06:00:00",
          "2023-07-01T07:00:00",
          "2023-07-01T08:00:00",
          "2023-07-01T09:00:00",
          "2023-07-01T10:00:00",
          "2023-07-01T11:00:00",
          "2023-07-01T12:00:00",
          "2023-07-01T13:00:00",
          "2023-07-01T14:00:00",
          "2023-07-01T15:00:00",
          "2023-07-01T16:00:00",
          "2023-07-01T17:00:00",
          "2023-07-01T18:00:00",
          "2023-07-01T19:00:00",
          "2023-07-01T20:00:00",
          "2023-07-01T21:00:00",
          "2023-07-01T22:00:00",
          "2023-07-01T23:00:00"
         ],
         "y": [
          0,
          0,
          0,
          0,
          0,
          0,
          0.41828402400376263,
          2.9501014380265373,
          4.411145199460945,
          5.513931499326182,
          5.513931499326182,
          5.513931499326182,
          4.411145199460945,
          4.411145199460945,
          4.411145199460945,
          5.513931499326182,
          2.924613996026308,
          2.5413682320228608,
          0.08365680600075252,
          0,
          0,
          0,
          0,
          0
         ]
        },
        {
         "base": [
          0,
          0,
          0,
          0,
          0,
          0,
          0.41828402400376263,
          2.9501014380265373,
          4.411145199460945,
          5.513931499326182,
          5.513931499326182,
          5.513931499326182,
          4.411145199460945,
          4.411145199460945,
          4.411145199460945,
          5.513931499326182,
          2.924613996026308,
          2.5413682320228608,
          0.08365680600075252,
          0,
          0,
          0,
          0,
          0
         ],
         "marker": {
          "color": "#9abca7"
         },
         "name": "PV to battery",
         "offsetgroup": "0",
         "type": "bar",
         "x": [
          "2023-07-01T00:00:00",
          "2023-07-01T01:00:00",
          "2023-07-01T02:00:00",
          "2023-07-01T03:00:00",
          "2023-07-01T04:00:00",
          "2023-07-01T05:00:00",
          "2023-07-01T06:00:00",
          "2023-07-01T07:00:00",
          "2023-07-01T08:00:00",
          "2023-07-01T09:00:00",
          "2023-07-01T10:00:00",
          "2023-07-01T11:00:00",
          "2023-07-01T12:00:00",
          "2023-07-01T13:00:00",
          "2023-07-01T14:00:00",
          "2023-07-01T15:00:00",
          "2023-07-01T16:00:00",
          "2023-07-01T17:00:00",
          "2023-07-01T18:00:00",
          "2023-07-01T19:00:00",
          "2023-07-01T20:00:00",
          "2023-07-01T21:00:00",
          "2023-07-01T22:00:00",
          "2023-07-01T23:00:00"
         ],
         "y": [
          0,
          0,
          0,
          0,
          0,
          0,
          0,
          0,
          0,
          0,
          0,
          0,
          0,
          0,
          0,
          0,
          0,
          0,
          0,
          0,
          0,
          0,
          0,
          0
         ]
        },
        {
         "base": [
          0,
          0,
          0,
          0,
          0,
          0,
          0.41828402400376263,
          2.9501014380265373,
          4.411145199460945,
          5.513931499326182,
          5.513931499326182,
          5.513931499326182,
          4.411145199460945,
          4.411145199460945,
          4.411145199460945,
          5.513931499326182,
          2.924613996026308,
          2.5413682320228608,
          0.08365680600075252,
          0,
          0,
          0,
          0,
          0
         ],
         "marker": {
          "color": "#272635"
         },
         "name": "PV to grid",
         "offsetgroup": "0",
         "type": "bar",
         "x": [
          "2023-07-01T00:00:00",
          "2023-07-01T01:00:00",
          "2023-07-01T02:00:00",
          "2023-07-01T03:00:00",
          "2023-07-01T04:00:00",
          "2023-07-01T05:00:00",
          "2023-07-01T06:00:00",
          "2023-07-01T07:00:00",
          "2023-07-01T08:00:00",
          "2023-07-01T09:00:00",
          "2023-07-01T10:00:00",
          "2023-07-01T11:00:00",
          "2023-07-01T12:00:00",
          "2023-07-01T13:00:00",
          "2023-07-01T14:00:00",
          "2023-07-01T15:00:00",
          "2023-07-01T16:00:00",
          "2023-07-01T17:00:00",
          "2023-07-01T18:00:00",
          "2023-07-01T19:00:00",
          "2023-07-01T20:00:00",
          "2023-07-01T21:00:00",
          "2023-07-01T22:00:00",
          "2023-07-01T23:00:00"
         ],
         "y": [
          0,
          0,
          0,
          0,
          0,
          0,
          0,
          0,
          1.957005950596339,
          0.32305471672632446,
          0,
          0,
          0,
          0,
          0,
          3.0224367107506076,
          0,
          0,
          0,
          0,
          0,
          0,
          0,
          0
         ]
        },
        {
         "base": [
          0,
          0,
          0,
          0,
          0,
          0,
          0.41828402400376263,
          2.9501014380265373,
          4.411145199460945,
          5.513931499326182,
          5.513931499326182,
          5.513931499326182,
          4.411145199460945,
          4.411145199460945,
          4.411145199460945,
          5.513931499326182,
          2.924613996026308,
          2.5413682320228608,
          0.08365680600075252,
          0,
          0,
          0,
          0,
          0
         ],
         "marker": {
          "color": "#f9cb9c"
         },
         "name": "PV wasted",
         "offsetgroup": "0",
         "type": "bar",
         "x": [
          "2023-07-01T00:00:00",
          "2023-07-01T01:00:00",
          "2023-07-01T02:00:00",
          "2023-07-01T03:00:00",
          "2023-07-01T04:00:00",
          "2023-07-01T05:00:00",
          "2023-07-01T06:00:00",
          "2023-07-01T07:00:00",
          "2023-07-01T08:00:00",
          "2023-07-01T09:00:00",
          "2023-07-01T10:00:00",
          "2023-07-01T11:00:00",
          "2023-07-01T12:00:00",
          "2023-07-01T13:00:00",
          "2023-07-01T14:00:00",
          "2023-07-01T15:00:00",
          "2023-07-01T16:00:00",
          "2023-07-01T17:00:00",
          "2023-07-01T18:00:00",
          "2023-07-01T19:00:00",
          "2023-07-01T20:00:00",
          "2023-07-01T21:00:00",
          "2023-07-01T22:00:00",
          "2023-07-01T23:00:00"
         ],
         "y": [
          0,
          0,
          0,
          0,
          0,
          0,
          0,
          0,
          0,
          0,
          1.7348887727390245,
          4.23774698876154,
          7.152456020643076,
          6.875426510640583,
          5.368962662627032,
          0,
          0,
          0,
          0,
          0,
          0,
          0,
          0,
          0
         ]
        },
        {
         "marker": {
          "color": "#d75602"
         },
         "name": "PV",
         "type": "scatter",
         "x": [
          "2023-07-01T00:00:00",
          "2023-07-01T01:00:00",
          "2023-07-01T02:00:00",
          "2023-07-01T03:00:00",
          "2023-07-01T04:00:00",
          "2023-07-01T05:00:00",
          "2023-07-01T06:00:00",
          "2023-07-01T07:00:00",
          "2023-07-01T08:00:00",
          "2023-07-01T09:00:00",
          "2023-07-01T10:00:00",
          "2023-07-01T11:00:00",
          "2023-07-01T12:00:00",
          "2023-07-01T13:00:00",
          "2023-07-01T14:00:00",
          "2023-07-01T15:00:00",
          "2023-07-01T16:00:00",
          "2023-07-01T17:00:00",
          "2023-07-01T18:00:00",
          "2023-07-01T19:00:00",
          "2023-07-01T20:00:00",
          "2023-07-01T21:00:00",
          "2023-07-01T22:00:00",
          "2023-07-01T23:00:00"
         ],
         "y": [
          0,
          0,
          0,
          0,
          0,
          0,
          0.41828402400376263,
          2.9501014380265373,
          6.368151150057284,
          5.836986216052506,
          5.513931499326182,
          5.513931499326182,
          4.411145199460945,
          4.411145199460945,
          4.411145199460945,
          8.53636821007679,
          2.924613996026308,
          2.5413682320228608,
          0.08365680600075252,
          0,
          0,
          0,
          0,
          0
         ]
        }
       ],
       "layout": {
        "legend": {
         "orientation": "h"
        },
        "template": {
         "data": {
          "bar": [
           {
            "error_x": {
             "color": "#2a3f5f"
            },
            "error_y": {
             "color": "#2a3f5f"
            },
            "marker": {
             "line": {
              "color": "#E5ECF6",
              "width": 0.5
             },
             "pattern": {
              "fillmode": "overlay",
              "size": 10,
              "solidity": 0.2
             }
            },
            "type": "bar"
           }
          ],
          "barpolar": [
           {
            "marker": {
             "line": {
              "color": "#E5ECF6",
              "width": 0.5
             },
             "pattern": {
              "fillmode": "overlay",
              "size": 10,
              "solidity": 0.2
             }
            },
            "type": "barpolar"
           }
          ],
          "carpet": [
           {
            "aaxis": {
             "endlinecolor": "#2a3f5f",
             "gridcolor": "white",
             "linecolor": "white",
             "minorgridcolor": "white",
             "startlinecolor": "#2a3f5f"
            },
            "baxis": {
             "endlinecolor": "#2a3f5f",
             "gridcolor": "white",
             "linecolor": "white",
             "minorgridcolor": "white",
             "startlinecolor": "#2a3f5f"
            },
            "type": "carpet"
           }
          ],
          "choropleth": [
           {
            "colorbar": {
             "outlinewidth": 0,
             "ticks": ""
            },
            "type": "choropleth"
           }
          ],
          "contour": [
           {
            "colorbar": {
             "outlinewidth": 0,
             "ticks": ""
            },
            "colorscale": [
             [
              0,
              "#0d0887"
             ],
             [
              0.1111111111111111,
              "#46039f"
             ],
             [
              0.2222222222222222,
              "#7201a8"
             ],
             [
              0.3333333333333333,
              "#9c179e"
             ],
             [
              0.4444444444444444,
              "#bd3786"
             ],
             [
              0.5555555555555556,
              "#d8576b"
             ],
             [
              0.6666666666666666,
              "#ed7953"
             ],
             [
              0.7777777777777778,
              "#fb9f3a"
             ],
             [
              0.8888888888888888,
              "#fdca26"
             ],
             [
              1,
              "#f0f921"
             ]
            ],
            "type": "contour"
           }
          ],
          "contourcarpet": [
           {
            "colorbar": {
             "outlinewidth": 0,
             "ticks": ""
            },
            "type": "contourcarpet"
           }
          ],
          "heatmap": [
           {
            "colorbar": {
             "outlinewidth": 0,
             "ticks": ""
            },
            "colorscale": [
             [
              0,
              "#0d0887"
             ],
             [
              0.1111111111111111,
              "#46039f"
             ],
             [
              0.2222222222222222,
              "#7201a8"
             ],
             [
              0.3333333333333333,
              "#9c179e"
             ],
             [
              0.4444444444444444,
              "#bd3786"
             ],
             [
              0.5555555555555556,
              "#d8576b"
             ],
             [
              0.6666666666666666,
              "#ed7953"
             ],
             [
              0.7777777777777778,
              "#fb9f3a"
             ],
             [
              0.8888888888888888,
              "#fdca26"
             ],
             [
              1,
              "#f0f921"
             ]
            ],
            "type": "heatmap"
           }
          ],
          "heatmapgl": [
           {
            "colorbar": {
             "outlinewidth": 0,
             "ticks": ""
            },
            "colorscale": [
             [
              0,
              "#0d0887"
             ],
             [
              0.1111111111111111,
              "#46039f"
             ],
             [
              0.2222222222222222,
              "#7201a8"
             ],
             [
              0.3333333333333333,
              "#9c179e"
             ],
             [
              0.4444444444444444,
              "#bd3786"
             ],
             [
              0.5555555555555556,
              "#d8576b"
             ],
             [
              0.6666666666666666,
              "#ed7953"
             ],
             [
              0.7777777777777778,
              "#fb9f3a"
             ],
             [
              0.8888888888888888,
              "#fdca26"
             ],
             [
              1,
              "#f0f921"
             ]
            ],
            "type": "heatmapgl"
           }
          ],
          "histogram": [
           {
            "marker": {
             "pattern": {
              "fillmode": "overlay",
              "size": 10,
              "solidity": 0.2
             }
            },
            "type": "histogram"
           }
          ],
          "histogram2d": [
           {
            "colorbar": {
             "outlinewidth": 0,
             "ticks": ""
            },
            "colorscale": [
             [
              0,
              "#0d0887"
             ],
             [
              0.1111111111111111,
              "#46039f"
             ],
             [
              0.2222222222222222,
              "#7201a8"
             ],
             [
              0.3333333333333333,
              "#9c179e"
             ],
             [
              0.4444444444444444,
              "#bd3786"
             ],
             [
              0.5555555555555556,
              "#d8576b"
             ],
             [
              0.6666666666666666,
              "#ed7953"
             ],
             [
              0.7777777777777778,
              "#fb9f3a"
             ],
             [
              0.8888888888888888,
              "#fdca26"
             ],
             [
              1,
              "#f0f921"
             ]
            ],
            "type": "histogram2d"
           }
          ],
          "histogram2dcontour": [
           {
            "colorbar": {
             "outlinewidth": 0,
             "ticks": ""
            },
            "colorscale": [
             [
              0,
              "#0d0887"
             ],
             [
              0.1111111111111111,
              "#46039f"
             ],
             [
              0.2222222222222222,
              "#7201a8"
             ],
             [
              0.3333333333333333,
              "#9c179e"
             ],
             [
              0.4444444444444444,
              "#bd3786"
             ],
             [
              0.5555555555555556,
              "#d8576b"
             ],
             [
              0.6666666666666666,
              "#ed7953"
             ],
             [
              0.7777777777777778,
              "#fb9f3a"
             ],
             [
              0.8888888888888888,
              "#fdca26"
             ],
             [
              1,
              "#f0f921"
             ]
            ],
            "type": "histogram2dcontour"
           }
          ],
          "mesh3d": [
           {
            "colorbar": {
             "outlinewidth": 0,
             "ticks": ""
            },
            "type": "mesh3d"
           }
          ],
          "parcoords": [
           {
            "line": {
             "colorbar": {
              "outlinewidth": 0,
              "ticks": ""
             }
            },
            "type": "parcoords"
           }
          ],
          "pie": [
           {
            "automargin": true,
            "type": "pie"
           }
          ],
          "scatter": [
           {
            "fillpattern": {
             "fillmode": "overlay",
             "size": 10,
             "solidity": 0.2
            },
            "type": "scatter"
           }
          ],
          "scatter3d": [
           {
            "line": {
             "colorbar": {
              "outlinewidth": 0,
              "ticks": ""
             }
            },
            "marker": {
             "colorbar": {
              "outlinewidth": 0,
              "ticks": ""
             }
            },
            "type": "scatter3d"
           }
          ],
          "scattercarpet": [
           {
            "marker": {
             "colorbar": {
              "outlinewidth": 0,
              "ticks": ""
             }
            },
            "type": "scattercarpet"
           }
          ],
          "scattergeo": [
           {
            "marker": {
             "colorbar": {
              "outlinewidth": 0,
              "ticks": ""
             }
            },
            "type": "scattergeo"
           }
          ],
          "scattergl": [
           {
            "marker": {
             "colorbar": {
              "outlinewidth": 0,
              "ticks": ""
             }
            },
            "type": "scattergl"
           }
          ],
          "scattermapbox": [
           {
            "marker": {
             "colorbar": {
              "outlinewidth": 0,
              "ticks": ""
             }
            },
            "type": "scattermapbox"
           }
          ],
          "scatterpolar": [
           {
            "marker": {
             "colorbar": {
              "outlinewidth": 0,
              "ticks": ""
             }
            },
            "type": "scatterpolar"
           }
          ],
          "scatterpolargl": [
           {
            "marker": {
             "colorbar": {
              "outlinewidth": 0,
              "ticks": ""
             }
            },
            "type": "scatterpolargl"
           }
          ],
          "scatterternary": [
           {
            "marker": {
             "colorbar": {
              "outlinewidth": 0,
              "ticks": ""
             }
            },
            "type": "scatterternary"
           }
          ],
          "surface": [
           {
            "colorbar": {
             "outlinewidth": 0,
             "ticks": ""
            },
            "colorscale": [
             [
              0,
              "#0d0887"
             ],
             [
              0.1111111111111111,
              "#46039f"
             ],
             [
              0.2222222222222222,
              "#7201a8"
             ],
             [
              0.3333333333333333,
              "#9c179e"
             ],
             [
              0.4444444444444444,
              "#bd3786"
             ],
             [
              0.5555555555555556,
              "#d8576b"
             ],
             [
              0.6666666666666666,
              "#ed7953"
             ],
             [
              0.7777777777777778,
              "#fb9f3a"
             ],
             [
              0.8888888888888888,
              "#fdca26"
             ],
             [
              1,
              "#f0f921"
             ]
            ],
            "type": "surface"
           }
          ],
          "table": [
           {
            "cells": {
             "fill": {
              "color": "#EBF0F8"
             },
             "line": {
              "color": "white"
             }
            },
            "header": {
             "fill": {
              "color": "#C8D4E3"
             },
             "line": {
              "color": "white"
             }
            },
            "type": "table"
           }
          ]
         },
         "layout": {
          "annotationdefaults": {
           "arrowcolor": "#2a3f5f",
           "arrowhead": 0,
           "arrowwidth": 1
          },
          "autotypenumbers": "strict",
          "coloraxis": {
           "colorbar": {
            "outlinewidth": 0,
            "ticks": ""
           }
          },
          "colorscale": {
           "diverging": [
            [
             0,
             "#8e0152"
            ],
            [
             0.1,
             "#c51b7d"
            ],
            [
             0.2,
             "#de77ae"
            ],
            [
             0.3,
             "#f1b6da"
            ],
            [
             0.4,
             "#fde0ef"
            ],
            [
             0.5,
             "#f7f7f7"
            ],
            [
             0.6,
             "#e6f5d0"
            ],
            [
             0.7,
             "#b8e186"
            ],
            [
             0.8,
             "#7fbc41"
            ],
            [
             0.9,
             "#4d9221"
            ],
            [
             1,
             "#276419"
            ]
           ],
           "sequential": [
            [
             0,
             "#0d0887"
            ],
            [
             0.1111111111111111,
             "#46039f"
            ],
            [
             0.2222222222222222,
             "#7201a8"
            ],
            [
             0.3333333333333333,
             "#9c179e"
            ],
            [
             0.4444444444444444,
             "#bd3786"
            ],
            [
             0.5555555555555556,
             "#d8576b"
            ],
            [
             0.6666666666666666,
             "#ed7953"
            ],
            [
             0.7777777777777778,
             "#fb9f3a"
            ],
            [
             0.8888888888888888,
             "#fdca26"
            ],
            [
             1,
             "#f0f921"
            ]
           ],
           "sequentialminus": [
            [
             0,
             "#0d0887"
            ],
            [
             0.1111111111111111,
             "#46039f"
            ],
            [
             0.2222222222222222,
             "#7201a8"
            ],
            [
             0.3333333333333333,
             "#9c179e"
            ],
            [
             0.4444444444444444,
             "#bd3786"
            ],
            [
             0.5555555555555556,
             "#d8576b"
            ],
            [
             0.6666666666666666,
             "#ed7953"
            ],
            [
             0.7777777777777778,
             "#fb9f3a"
            ],
            [
             0.8888888888888888,
             "#fdca26"
            ],
            [
             1,
             "#f0f921"
            ]
           ]
          },
          "colorway": [
           "#636efa",
           "#EF553B",
           "#00cc96",
           "#ab63fa",
           "#FFA15A",
           "#19d3f3",
           "#FF6692",
           "#B6E880",
           "#FF97FF",
           "#FECB52"
          ],
          "font": {
           "color": "#2a3f5f"
          },
          "geo": {
           "bgcolor": "white",
           "lakecolor": "white",
           "landcolor": "#E5ECF6",
           "showlakes": true,
           "showland": true,
           "subunitcolor": "white"
          },
          "hoverlabel": {
           "align": "left"
          },
          "hovermode": "closest",
          "mapbox": {
           "style": "light"
          },
          "paper_bgcolor": "white",
          "plot_bgcolor": "#E5ECF6",
          "polar": {
           "angularaxis": {
            "gridcolor": "white",
            "linecolor": "white",
            "ticks": ""
           },
           "bgcolor": "#E5ECF6",
           "radialaxis": {
            "gridcolor": "white",
            "linecolor": "white",
            "ticks": ""
           }
          },
          "scene": {
           "xaxis": {
            "backgroundcolor": "#E5ECF6",
            "gridcolor": "white",
            "gridwidth": 2,
            "linecolor": "white",
            "showbackground": true,
            "ticks": "",
            "zerolinecolor": "white"
           },
           "yaxis": {
            "backgroundcolor": "#E5ECF6",
            "gridcolor": "white",
            "gridwidth": 2,
            "linecolor": "white",
            "showbackground": true,
            "ticks": "",
            "zerolinecolor": "white"
           },
           "zaxis": {
            "backgroundcolor": "#E5ECF6",
            "gridcolor": "white",
            "gridwidth": 2,
            "linecolor": "white",
            "showbackground": true,
            "ticks": "",
            "zerolinecolor": "white"
           }
          },
          "shapedefaults": {
           "line": {
            "color": "#2a3f5f"
           }
          },
          "ternary": {
           "aaxis": {
            "gridcolor": "white",
            "linecolor": "white",
            "ticks": ""
           },
           "baxis": {
            "gridcolor": "white",
            "linecolor": "white",
            "ticks": ""
           },
           "bgcolor": "#E5ECF6",
           "caxis": {
            "gridcolor": "white",
            "linecolor": "white",
            "ticks": ""
           }
          },
          "title": {
           "x": 0.05
          },
          "xaxis": {
           "automargin": true,
           "gridcolor": "white",
           "linecolor": "white",
           "ticks": "",
           "title": {
            "standoff": 15
           },
           "zerolinecolor": "white",
           "zerolinewidth": 2
          },
          "yaxis": {
           "automargin": true,
           "gridcolor": "white",
           "linecolor": "white",
           "ticks": "",
           "title": {
            "standoff": 15
           },
           "zerolinecolor": "white",
           "zerolinewidth": 2
          }
         }
        },
        "yaxis": {
         "title": {
          "text": "Energy (kWh)"
         }
        }
       }
      }
     },
     "metadata": {},
     "output_type": "display_data"
    },
    {
     "data": {
      "application/vnd.plotly.v1+json": {
       "config": {
        "plotlyServerURL": "https://plot.ly"
       },
       "data": [
        {
         "marker": {
          "color": "#fec22f"
         },
         "name": "Battery to load",
         "offsetgroup": "0",
         "type": "bar",
         "x": [
          "2023-01-31T00:00:00",
          "2023-02-28T00:00:00",
          "2023-03-31T00:00:00",
          "2023-04-30T00:00:00",
          "2023-05-31T00:00:00",
          "2023-06-30T00:00:00",
          "2023-07-31T00:00:00",
          "2023-08-31T00:00:00",
          "2023-09-30T00:00:00",
          "2023-10-31T00:00:00",
          "2023-11-30T00:00:00",
          "2023-12-31T00:00:00"
         ],
         "xaxis": "x",
         "y": [
          -8.881784197001252e-16,
          -0.5272519836532418,
          -7.771561172376096e-16,
          -0.6051754100459404,
          -4.307725873756738,
          -16.916969313884834,
          -5.053459449313551,
          -4.046563609764289,
          -7.285335364935819,
          -26.8837119060563,
          -18.201102851345897,
          -2.7925871287816206
         ],
         "yaxis": "y"
        },
        {
         "marker": {
          "color": "#d75602"
         },
         "name": "Battery from PV",
         "offsetgroup": "0",
         "type": "bar",
         "x": [
          "2023-01-31T00:00:00",
          "2023-02-28T00:00:00",
          "2023-03-31T00:00:00",
          "2023-04-30T00:00:00",
          "2023-05-31T00:00:00",
          "2023-06-30T00:00:00",
          "2023-07-31T00:00:00",
          "2023-08-31T00:00:00",
          "2023-09-30T00:00:00",
          "2023-10-31T00:00:00",
          "2023-11-30T00:00:00",
          "2023-12-31T00:00:00"
         ],
         "xaxis": "x",
         "y": [
          0,
          0.6275109820295566,
          0,
          0.7202518485123865,
          3.8647871262010716,
          18.073165944656242,
          0.5259339533116205,
          4.455491788683859,
          4.574295265693238,
          3.5420957264297392,
          2.6903901413521867,
          3.3236083427186314
         ],
         "yaxis": "y"
        },
        {
         "marker": {
          "color": "#272635"
         },
         "name": "Battery from grid",
         "offsetgroup": "0",
         "type": "bar",
         "x": [
          "2023-01-31T00:00:00",
          "2023-02-28T00:00:00",
          "2023-03-31T00:00:00",
          "2023-04-30T00:00:00",
          "2023-05-31T00:00:00",
          "2023-06-30T00:00:00",
          "2023-07-31T00:00:00",
          "2023-08-31T00:00:00",
          "2023-09-30T00:00:00",
          "2023-10-31T00:00:00",
          "2023-11-30T00:00:00",
          "2023-12-31T00:00:00"
         ],
         "xaxis": "x",
         "y": [
          13.850415512465378,
          0,
          0,
          0,
          1.3019242623081568,
          2.125702872287578,
          5.661780101205379,
          0.3719270206802267,
          4.225733921109326,
          29.35219425152055,
          19.570829651525575,
          0
         ],
         "yaxis": "y"
        },
        {
         "marker": {
          "color": "#9abca7"
         },
         "name": "Battery power",
         "type": "scatter",
         "x": [
          "2023-01-31T00:00:00",
          "2023-02-28T00:00:00",
          "2023-03-31T00:00:00",
          "2023-04-30T00:00:00",
          "2023-05-31T00:00:00",
          "2023-06-30T00:00:00",
          "2023-07-31T00:00:00",
          "2023-08-31T00:00:00",
          "2023-09-30T00:00:00",
          "2023-10-31T00:00:00",
          "2023-11-30T00:00:00",
          "2023-12-31T00:00:00"
         ],
         "xaxis": "x",
         "y": [
          13.157894736842108,
          0.05995867433292153,
          -8.180590707764311e-16,
          0.06882006412535938,
          0.4898711447048122,
          1.9237842345575422,
          0.5746753711130758,
          0.46017198069925136,
          0.8284825170797372,
          3.057194239207452,
          2.0698148744787552,
          0.3175707771467633
         ],
         "yaxis": "y"
        },
        {
         "line": {
          "color": "red",
          "dash": "dash",
          "width": 1
         },
         "name": "State of charge",
         "type": "scatter",
         "x": [
          "2023-01-31T00:00:00",
          "2023-02-28T00:00:00",
          "2023-03-31T00:00:00",
          "2023-04-30T00:00:00",
          "2023-05-31T00:00:00",
          "2023-06-30T00:00:00",
          "2023-07-31T00:00:00",
          "2023-08-31T00:00:00",
          "2023-09-30T00:00:00",
          "2023-10-31T00:00:00",
          "2023-11-30T00:00:00",
          "2023-12-31T00:00:00"
         ],
         "xaxis": "x",
         "y": [
          743.07,
          671.9766314910293,
          744,
          719.9731778211614,
          743.5287902772211,
          718.7579985074367,
          743.7760239579252,
          743.8206509203428,
          719.5114566761268,
          740.8551635368119,
          717.587323101082,
          743.8762288253172
         ],
         "yaxis": "y2"
        }
       ],
       "layout": {
        "legend": {
         "orientation": "h"
        },
        "template": {
         "data": {
          "bar": [
           {
            "error_x": {
             "color": "#2a3f5f"
            },
            "error_y": {
             "color": "#2a3f5f"
            },
            "marker": {
             "line": {
              "color": "#E5ECF6",
              "width": 0.5
             },
             "pattern": {
              "fillmode": "overlay",
              "size": 10,
              "solidity": 0.2
             }
            },
            "type": "bar"
           }
          ],
          "barpolar": [
           {
            "marker": {
             "line": {
              "color": "#E5ECF6",
              "width": 0.5
             },
             "pattern": {
              "fillmode": "overlay",
              "size": 10,
              "solidity": 0.2
             }
            },
            "type": "barpolar"
           }
          ],
          "carpet": [
           {
            "aaxis": {
             "endlinecolor": "#2a3f5f",
             "gridcolor": "white",
             "linecolor": "white",
             "minorgridcolor": "white",
             "startlinecolor": "#2a3f5f"
            },
            "baxis": {
             "endlinecolor": "#2a3f5f",
             "gridcolor": "white",
             "linecolor": "white",
             "minorgridcolor": "white",
             "startlinecolor": "#2a3f5f"
            },
            "type": "carpet"
           }
          ],
          "choropleth": [
           {
            "colorbar": {
             "outlinewidth": 0,
             "ticks": ""
            },
            "type": "choropleth"
           }
          ],
          "contour": [
           {
            "colorbar": {
             "outlinewidth": 0,
             "ticks": ""
            },
            "colorscale": [
             [
              0,
              "#0d0887"
             ],
             [
              0.1111111111111111,
              "#46039f"
             ],
             [
              0.2222222222222222,
              "#7201a8"
             ],
             [
              0.3333333333333333,
              "#9c179e"
             ],
             [
              0.4444444444444444,
              "#bd3786"
             ],
             [
              0.5555555555555556,
              "#d8576b"
             ],
             [
              0.6666666666666666,
              "#ed7953"
             ],
             [
              0.7777777777777778,
              "#fb9f3a"
             ],
             [
              0.8888888888888888,
              "#fdca26"
             ],
             [
              1,
              "#f0f921"
             ]
            ],
            "type": "contour"
           }
          ],
          "contourcarpet": [
           {
            "colorbar": {
             "outlinewidth": 0,
             "ticks": ""
            },
            "type": "contourcarpet"
           }
          ],
          "heatmap": [
           {
            "colorbar": {
             "outlinewidth": 0,
             "ticks": ""
            },
            "colorscale": [
             [
              0,
              "#0d0887"
             ],
             [
              0.1111111111111111,
              "#46039f"
             ],
             [
              0.2222222222222222,
              "#7201a8"
             ],
             [
              0.3333333333333333,
              "#9c179e"
             ],
             [
              0.4444444444444444,
              "#bd3786"
             ],
             [
              0.5555555555555556,
              "#d8576b"
             ],
             [
              0.6666666666666666,
              "#ed7953"
             ],
             [
              0.7777777777777778,
              "#fb9f3a"
             ],
             [
              0.8888888888888888,
              "#fdca26"
             ],
             [
              1,
              "#f0f921"
             ]
            ],
            "type": "heatmap"
           }
          ],
          "heatmapgl": [
           {
            "colorbar": {
             "outlinewidth": 0,
             "ticks": ""
            },
            "colorscale": [
             [
              0,
              "#0d0887"
             ],
             [
              0.1111111111111111,
              "#46039f"
             ],
             [
              0.2222222222222222,
              "#7201a8"
             ],
             [
              0.3333333333333333,
              "#9c179e"
             ],
             [
              0.4444444444444444,
              "#bd3786"
             ],
             [
              0.5555555555555556,
              "#d8576b"
             ],
             [
              0.6666666666666666,
              "#ed7953"
             ],
             [
              0.7777777777777778,
              "#fb9f3a"
             ],
             [
              0.8888888888888888,
              "#fdca26"
             ],
             [
              1,
              "#f0f921"
             ]
            ],
            "type": "heatmapgl"
           }
          ],
          "histogram": [
           {
            "marker": {
             "pattern": {
              "fillmode": "overlay",
              "size": 10,
              "solidity": 0.2
             }
            },
            "type": "histogram"
           }
          ],
          "histogram2d": [
           {
            "colorbar": {
             "outlinewidth": 0,
             "ticks": ""
            },
            "colorscale": [
             [
              0,
              "#0d0887"
             ],
             [
              0.1111111111111111,
              "#46039f"
             ],
             [
              0.2222222222222222,
              "#7201a8"
             ],
             [
              0.3333333333333333,
              "#9c179e"
             ],
             [
              0.4444444444444444,
              "#bd3786"
             ],
             [
              0.5555555555555556,
              "#d8576b"
             ],
             [
              0.6666666666666666,
              "#ed7953"
             ],
             [
              0.7777777777777778,
              "#fb9f3a"
             ],
             [
              0.8888888888888888,
              "#fdca26"
             ],
             [
              1,
              "#f0f921"
             ]
            ],
            "type": "histogram2d"
           }
          ],
          "histogram2dcontour": [
           {
            "colorbar": {
             "outlinewidth": 0,
             "ticks": ""
            },
            "colorscale": [
             [
              0,
              "#0d0887"
             ],
             [
              0.1111111111111111,
              "#46039f"
             ],
             [
              0.2222222222222222,
              "#7201a8"
             ],
             [
              0.3333333333333333,
              "#9c179e"
             ],
             [
              0.4444444444444444,
              "#bd3786"
             ],
             [
              0.5555555555555556,
              "#d8576b"
             ],
             [
              0.6666666666666666,
              "#ed7953"
             ],
             [
              0.7777777777777778,
              "#fb9f3a"
             ],
             [
              0.8888888888888888,
              "#fdca26"
             ],
             [
              1,
              "#f0f921"
             ]
            ],
            "type": "histogram2dcontour"
           }
          ],
          "mesh3d": [
           {
            "colorbar": {
             "outlinewidth": 0,
             "ticks": ""
            },
            "type": "mesh3d"
           }
          ],
          "parcoords": [
           {
            "line": {
             "colorbar": {
              "outlinewidth": 0,
              "ticks": ""
             }
            },
            "type": "parcoords"
           }
          ],
          "pie": [
           {
            "automargin": true,
            "type": "pie"
           }
          ],
          "scatter": [
           {
            "fillpattern": {
             "fillmode": "overlay",
             "size": 10,
             "solidity": 0.2
            },
            "type": "scatter"
           }
          ],
          "scatter3d": [
           {
            "line": {
             "colorbar": {
              "outlinewidth": 0,
              "ticks": ""
             }
            },
            "marker": {
             "colorbar": {
              "outlinewidth": 0,
              "ticks": ""
             }
            },
            "type": "scatter3d"
           }
          ],
          "scattercarpet": [
           {
            "marker": {
             "colorbar": {
              "outlinewidth": 0,
              "ticks": ""
             }
            },
            "type": "scattercarpet"
           }
          ],
          "scattergeo": [
           {
            "marker": {
             "colorbar": {
              "outlinewidth": 0,
              "ticks": ""
             }
            },
            "type": "scattergeo"
           }
          ],
          "scattergl": [
           {
            "marker": {
             "colorbar": {
              "outlinewidth": 0,
              "ticks": ""
             }
            },
            "type": "scattergl"
           }
          ],
          "scattermapbox": [
           {
            "marker": {
             "colorbar": {
              "outlinewidth": 0,
              "ticks": ""
             }
            },
            "type": "scattermapbox"
           }
          ],
          "scatterpolar": [
           {
            "marker": {
             "colorbar": {
              "outlinewidth": 0,
              "ticks": ""
             }
            },
            "type": "scatterpolar"
           }
          ],
          "scatterpolargl": [
           {
            "marker": {
             "colorbar": {
              "outlinewidth": 0,
              "ticks": ""
             }
            },
            "type": "scatterpolargl"
           }
          ],
          "scatterternary": [
           {
            "marker": {
             "colorbar": {
              "outlinewidth": 0,
              "ticks": ""
             }
            },
            "type": "scatterternary"
           }
          ],
          "surface": [
           {
            "colorbar": {
             "outlinewidth": 0,
             "ticks": ""
            },
            "colorscale": [
             [
              0,
              "#0d0887"
             ],
             [
              0.1111111111111111,
              "#46039f"
             ],
             [
              0.2222222222222222,
              "#7201a8"
             ],
             [
              0.3333333333333333,
              "#9c179e"
             ],
             [
              0.4444444444444444,
              "#bd3786"
             ],
             [
              0.5555555555555556,
              "#d8576b"
             ],
             [
              0.6666666666666666,
              "#ed7953"
             ],
             [
              0.7777777777777778,
              "#fb9f3a"
             ],
             [
              0.8888888888888888,
              "#fdca26"
             ],
             [
              1,
              "#f0f921"
             ]
            ],
            "type": "surface"
           }
          ],
          "table": [
           {
            "cells": {
             "fill": {
              "color": "#EBF0F8"
             },
             "line": {
              "color": "white"
             }
            },
            "header": {
             "fill": {
              "color": "#C8D4E3"
             },
             "line": {
              "color": "white"
             }
            },
            "type": "table"
           }
          ]
         },
         "layout": {
          "annotationdefaults": {
           "arrowcolor": "#2a3f5f",
           "arrowhead": 0,
           "arrowwidth": 1
          },
          "autotypenumbers": "strict",
          "coloraxis": {
           "colorbar": {
            "outlinewidth": 0,
            "ticks": ""
           }
          },
          "colorscale": {
           "diverging": [
            [
             0,
             "#8e0152"
            ],
            [
             0.1,
             "#c51b7d"
            ],
            [
             0.2,
             "#de77ae"
            ],
            [
             0.3,
             "#f1b6da"
            ],
            [
             0.4,
             "#fde0ef"
            ],
            [
             0.5,
             "#f7f7f7"
            ],
            [
             0.6,
             "#e6f5d0"
            ],
            [
             0.7,
             "#b8e186"
            ],
            [
             0.8,
             "#7fbc41"
            ],
            [
             0.9,
             "#4d9221"
            ],
            [
             1,
             "#276419"
            ]
           ],
           "sequential": [
            [
             0,
             "#0d0887"
            ],
            [
             0.1111111111111111,
             "#46039f"
            ],
            [
             0.2222222222222222,
             "#7201a8"
            ],
            [
             0.3333333333333333,
             "#9c179e"
            ],
            [
             0.4444444444444444,
             "#bd3786"
            ],
            [
             0.5555555555555556,
             "#d8576b"
            ],
            [
             0.6666666666666666,
             "#ed7953"
            ],
            [
             0.7777777777777778,
             "#fb9f3a"
            ],
            [
             0.8888888888888888,
             "#fdca26"
            ],
            [
             1,
             "#f0f921"
            ]
           ],
           "sequentialminus": [
            [
             0,
             "#0d0887"
            ],
            [
             0.1111111111111111,
             "#46039f"
            ],
            [
             0.2222222222222222,
             "#7201a8"
            ],
            [
             0.3333333333333333,
             "#9c179e"
            ],
            [
             0.4444444444444444,
             "#bd3786"
            ],
            [
             0.5555555555555556,
             "#d8576b"
            ],
            [
             0.6666666666666666,
             "#ed7953"
            ],
            [
             0.7777777777777778,
             "#fb9f3a"
            ],
            [
             0.8888888888888888,
             "#fdca26"
            ],
            [
             1,
             "#f0f921"
            ]
           ]
          },
          "colorway": [
           "#636efa",
           "#EF553B",
           "#00cc96",
           "#ab63fa",
           "#FFA15A",
           "#19d3f3",
           "#FF6692",
           "#B6E880",
           "#FF97FF",
           "#FECB52"
          ],
          "font": {
           "color": "#2a3f5f"
          },
          "geo": {
           "bgcolor": "white",
           "lakecolor": "white",
           "landcolor": "#E5ECF6",
           "showlakes": true,
           "showland": true,
           "subunitcolor": "white"
          },
          "hoverlabel": {
           "align": "left"
          },
          "hovermode": "closest",
          "mapbox": {
           "style": "light"
          },
          "paper_bgcolor": "white",
          "plot_bgcolor": "#E5ECF6",
          "polar": {
           "angularaxis": {
            "gridcolor": "white",
            "linecolor": "white",
            "ticks": ""
           },
           "bgcolor": "#E5ECF6",
           "radialaxis": {
            "gridcolor": "white",
            "linecolor": "white",
            "ticks": ""
           }
          },
          "scene": {
           "xaxis": {
            "backgroundcolor": "#E5ECF6",
            "gridcolor": "white",
            "gridwidth": 2,
            "linecolor": "white",
            "showbackground": true,
            "ticks": "",
            "zerolinecolor": "white"
           },
           "yaxis": {
            "backgroundcolor": "#E5ECF6",
            "gridcolor": "white",
            "gridwidth": 2,
            "linecolor": "white",
            "showbackground": true,
            "ticks": "",
            "zerolinecolor": "white"
           },
           "zaxis": {
            "backgroundcolor": "#E5ECF6",
            "gridcolor": "white",
            "gridwidth": 2,
            "linecolor": "white",
            "showbackground": true,
            "ticks": "",
            "zerolinecolor": "white"
           }
          },
          "shapedefaults": {
           "line": {
            "color": "#2a3f5f"
           }
          },
          "ternary": {
           "aaxis": {
            "gridcolor": "white",
            "linecolor": "white",
            "ticks": ""
           },
           "baxis": {
            "gridcolor": "white",
            "linecolor": "white",
            "ticks": ""
           },
           "bgcolor": "#E5ECF6",
           "caxis": {
            "gridcolor": "white",
            "linecolor": "white",
            "ticks": ""
           }
          },
          "title": {
           "x": 0.05
          },
          "xaxis": {
           "automargin": true,
           "gridcolor": "white",
           "linecolor": "white",
           "ticks": "",
           "title": {
            "standoff": 15
           },
           "zerolinecolor": "white",
           "zerolinewidth": 2
          },
          "yaxis": {
           "automargin": true,
           "gridcolor": "white",
           "linecolor": "white",
           "ticks": "",
           "title": {
            "standoff": 15
           },
           "zerolinecolor": "white",
           "zerolinewidth": 2
          }
         }
        },
        "xaxis": {
         "anchor": "y",
         "domain": [
          0,
          0.94
         ]
        },
        "yaxis": {
         "anchor": "x",
         "domain": [
          0,
          1
         ],
         "dtick": 2,
         "range": [
          -10,
          10
         ],
         "side": "left",
         "title": {
          "text": "Energy (kWh)"
         }
        },
        "yaxis2": {
         "anchor": "x",
         "dtick": 0.1,
         "overlaying": "y",
         "range": [
          0,
          1
         ],
         "side": "right",
         "tickmode": "sync",
         "title": {
          "text": "State of charge (%)"
         }
        }
       }
      }
     },
     "metadata": {},
     "output_type": "display_data"
    }
   ],
   "source": [
    "case = 11\n",
    "fig = sims.graphs[case]['day']['grid']\n",
    "fig.show()\n",
    "fig = sims.graphs[case]['day']['load']\n",
    "fig.show()\n",
    "fig = sims.graphs[case]['day']['solar']\n",
    "fig.show()\n",
    "fig = sims.graphs[case]['day']['batt']\n",
    "fig.show()\n"
   ]
  },
  {
   "cell_type": "code",
   "execution_count": 7,
   "metadata": {},
   "outputs": [
    {
     "name": "stdout",
     "output_type": "stream",
     "text": [
      "0.5\n"
     ]
    }
   ],
   "source": [
    "# Check batt SOC\n",
    "batt_soc_2 = sims.simulation_outputs[2]['hourly_simulation'].output_df['batt_soc']\n",
    "batt_soc_3 = sims.simulation_outputs[2]['hourly_simulation'].output_df['batt_soc']\n",
    "hist_2 = batt_soc_2.plot.hist(bins=12, alpha=0.5)\n",
    "hist_3 = batt_soc_3.plot.hist(bins=12, alpha=0.5)"
   ]
  }
 ],
 "metadata": {
  "kernelspec": {
   "display_name": "Python 3",
   "language": "python",
   "name": "python3"
  },
  "language_info": {
   "codemirror_mode": {
    "name": "ipython",
    "version": 3
   },
   "file_extension": ".py",
   "mimetype": "text/x-python",
   "name": "python",
   "nbconvert_exporter": "python",
   "pygments_lexer": "ipython3",
   "version": "3.10.7"
  },
  "orig_nbformat": 4
 },
 "nbformat": 4,
 "nbformat_minor": 2
}
