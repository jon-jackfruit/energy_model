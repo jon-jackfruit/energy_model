{
 "cells": [
  {
   "cell_type": "code",
   "execution_count": 1,
   "metadata": {},
   "outputs": [
    {
     "name": "stdout",
     "output_type": "stream",
     "text": [
      "to fix for non-mysore projects\n",
      "to fix for non-mysore projects\n",
      "to fix for non-mysore projects\n",
      "       pv_kW  batt_kWh  inv_rating     cost_capex  cost_capex_pv  \\\n",
      "0   7.463615        22    6.384520  451285.401658  201517.601692   \n",
      "1  12.439358        22   10.640867  649475.669430  335862.669486   \n",
      "2  18.659037        22   15.961300  897213.504145  503794.004229   \n",
      "\n",
      "   cost_capex_batt  cost_capex_inv  cost_grid_total  cost_import_kWh  \\\n",
      "0           154000    95767.799966     1.242755e+04      2681.650291   \n",
      "1           154000   159612.999943     2.214685e+04         0.000000   \n",
      "2           154000   239419.499915     1.199041e-14         0.000000   \n",
      "\n",
      "   cost_export_kWh  ...      an_solar  an_solar_wasted       an_grid  \\\n",
      "0     0.000000e+00  ...  10684.286816     1.315713e+03  3.648504e+02   \n",
      "1     1.710133e+04  ...  20000.000000     8.604228e-16 -8.550666e+03   \n",
      "2     8.881784e-16  ...  10773.353081     1.922665e+04 -4.440892e-16   \n",
      "\n",
      "     an_losses   an_batt_ch   an_batt_dc  an_grid_import_kWh  \\\n",
      "0  1047.506563  2972.674372 -2971.043739           364.85038   \n",
      "1  1438.334367   591.224356  -580.224356             0.00000   \n",
      "2   762.353081   205.786853  -194.786853             0.00000   \n",
      "\n",
      "   an_grid_export_kWh  an_grid_import_kW  an_grid_export_kW  \n",
      "0        0.000000e+00          81.215831      -2.109424e-15  \n",
      "1       -8.550666e+03          12.696057      -7.043981e+01  \n",
      "2       -4.440892e-16           0.000000      -2.220446e-16  \n",
      "\n",
      "[3 rows x 26 columns]\n"
     ]
    }
   ],
   "source": [
    "import simulation_models\n",
    "import pandas as pd\n",
    "import os\n",
    "\n",
    "root_folder = 'outputs/set1'\n",
    "if not os.path.exists(root_folder):\n",
    "    os.mkdir(root_folder)\n",
    "\n",
    "simulation_inputs = [\n",
    "    {\n",
    "        'annual_demand_kWh': 10000,\n",
    "        'input_profiles_path': 'profiles.csv',\n",
    "        'pv_to_load_ratio': 1.2,\n",
    "        'hybrid_system': False,\n",
    "        'peak_demand_backup_hrs': 4\n",
    "    },\n",
    "    {\n",
    "        'annual_demand_kWh': 10000,\n",
    "        'input_profiles_path': 'profiles.csv',\n",
    "        'pv_to_load_ratio': 2,\n",
    "        'hybrid_system': True,\n",
    "        'peak_demand_backup_hrs': 4\n",
    "    },\n",
    "    {\n",
    "        'annual_demand_kWh': 10000,\n",
    "        'input_profiles_path': 'profiles.csv',\n",
    "        'pv_to_load_ratio': 3,\n",
    "        'hybrid_system': False,\n",
    "        'peak_demand_backup_hrs': 4\n",
    "    }\n",
    "]\n",
    "\n",
    "# Save inputs to csv\n",
    "df = pd.DataFrame.from_dict(simulation_inputs)\n",
    "df.to_csv(root_folder + '/input_table.csv')\n",
    "\n",
    "\n",
    "sims = simulation_models.Simulations(\n",
    "    simulation_inputs = simulation_inputs\n",
    ")\n",
    "\n",
    "sims.run_simulations()\n",
    "\n",
    "sims.create_graphs(root_folder = root_folder, export_png = True, export_html = True)\n",
    "sims.create_output_table(root_folder = root_folder)\n",
    "\n",
    "print(sims.output_table)\n"
   ]
  }
 ],
 "metadata": {
  "kernelspec": {
   "display_name": "Python 3",
   "language": "python",
   "name": "python3"
  },
  "language_info": {
   "codemirror_mode": {
    "name": "ipython",
    "version": 3
   },
   "file_extension": ".py",
   "mimetype": "text/x-python",
   "name": "python",
   "nbconvert_exporter": "python",
   "pygments_lexer": "ipython3",
   "version": "3.10.7"
  },
  "orig_nbformat": 4
 },
 "nbformat": 4,
 "nbformat_minor": 2
}
