{
 "cells": [
  {
   "cell_type": "code",
   "execution_count": null,
   "metadata": {},
   "outputs": [],
   "source": [
    "import simulation_models\n",
    "import pandas as pd\n",
    "import os\n",
    "\n",
    "root_folder = 'outputs/set1'\n",
    "if not os.path.exists(root_folder):\n",
    "    os.mkdir(root_folder)\n",
    "\n",
    "\n",
    "scenarios = pd.read_excel('inputs.xlsx',sheet_name='scenarios')\n",
    "\n",
    "load_profiles = pd.read_excel('inputs.xlsx', sheet_name='load_profiles')\n",
    "grid_profiles = pd.read_excel('inputs.xlsx', sheet_name='grid_profiles')\n",
    "solar_profiles = pd.read_excel('inputs.xlsx', sheet_name='solar_profiles')\n",
    "\n",
    "simulation_inputs = [None] * len(scenarios)\n",
    "\n",
    "for i in range(len(scenarios)):\n",
    "    simulation_inputs[i] = {\n",
    "        'annual_demand_kWh': scenarios['Annual load (kWh)'][i],\n",
    "        'solar_profile': solar_profiles[scenarios['Solar profile'][i]].tolist(),\n",
    "        'load_profile': load_profiles[scenarios['Load profile'][i]].tolist(),\n",
    "        'grid_profile':  grid_profiles[scenarios['Grid profile'][i]].tolist(),\n",
    "        'pv_to_load_ratio': scenarios['Solar to load ratio'][i],\n",
    "        'hybrid_system': int(scenarios['Hybrid/Offgrid (1/0)'][i])*True,\n",
    "        'peak_demand_backup_hrs': scenarios['Night-time backup (hrs)'][i],\n",
    "    }\n",
    "\n",
    "print('Simulating the following scenarios')\n",
    "print(scenarios)\n",
    "\n",
    "# Save inputs to csv\n",
    "df = pd.DataFrame.from_dict(simulation_inputs)\n",
    "df.to_csv(root_folder + '/input_table.csv')\n",
    "\n",
    "\n",
    "sims = simulation_models.Simulations(\n",
    "    simulation_inputs = simulation_inputs\n",
    ")\n",
    "\n",
    "sims.run_simulations()\n",
    "\n",
    "#sims.create_graphs(root_folder = root_folder, export_png = True, export_html = True)\n",
    "sims.create_output_table(root_folder = root_folder)\n"
   ]
  },
  {
   "cell_type": "code",
   "execution_count": null,
   "metadata": {},
   "outputs": [],
   "source": [
    "sims.create_output_table(root_folder = root_folder)"
   ]
  }
 ],
 "metadata": {
  "kernelspec": {
   "display_name": "Python 3",
   "language": "python",
   "name": "python3"
  },
  "language_info": {
   "codemirror_mode": {
    "name": "ipython",
    "version": 3
   },
   "file_extension": ".py",
   "mimetype": "text/x-python",
   "name": "python",
   "nbconvert_exporter": "python",
   "pygments_lexer": "ipython3",
   "version": "3.10.7"
  },
  "orig_nbformat": 4
 },
 "nbformat": 4,
 "nbformat_minor": 2
}
