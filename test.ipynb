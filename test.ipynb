{
 "cells": [
  {
   "cell_type": "code",
   "execution_count": 1,
   "metadata": {},
   "outputs": [],
   "source": [
    "### Constants ###\n",
    "\n",
    "# System specs\n",
    "hybrid_system = True    #T/F, False: off-grid\n",
    "batt_ch_rating = 5      #kW dc\n",
    "batt_dc_rating = -10    #kW dc\n",
    "inv_rating = 100        #kW ac, output\n",
    "grid_ch_rating = 50     #kW dc, output\n",
    "soc_low = 0.5           #%\n",
    "batt_capacity = 100     #kWh\n",
    "time_inc = 0.5          #hrs\n",
    "\n",
    "# Grid connection\n",
    "grid_export_rating = 1000   #kW ac\n",
    "grid_import_rating = 1000   #kW ac\n",
    "\n",
    "# Efficiency\n",
    "e_pv = 0.98\n",
    "e_inv = 0.95\n",
    "e_gc = 0.95\n",
    "e_bch = 0.95\n",
    "e_bdc = 0.95"
   ]
  },
  {
   "cell_type": "code",
   "execution_count": 2,
   "metadata": {},
   "outputs": [],
   "source": [
    "# Inputs (vary with each time-stamp)\n",
    "solar_input = 88.90750134    #kW dc\n",
    "load = 0           #kW ac\n",
    "batt_soc = 0.5475      #%\n",
    "grid_on = True         #T/F"
   ]
  },
  {
   "cell_type": "code",
   "execution_count": 3,
   "metadata": {},
   "outputs": [
    {
     "name": "stdout",
     "output_type": "stream",
     "text": [
      "to fix: solar_wasted_inv_limit needs to factor in battery charging\n"
     ]
    }
   ],
   "source": [
    "# Battery status calculations (common)\n",
    "batt_high = batt_soc > soc_low\n",
    "\n",
    "batt_ch_max_to_full = (1-batt_soc) * batt_capacity / time_inc / e_bch\n",
    "batt_ch_max = min(batt_ch_max_to_full, batt_ch_rating)\n",
    "\n",
    "batt_dc_max_to_empty = -batt_soc * batt_capacity * e_bdc / time_inc\n",
    "batt_dc_max = max(batt_dc_max_to_empty, batt_dc_rating)\n",
    "\n",
    "# Solar \n",
    "solar_limited = min(solar_input,inv_rating/e_inv/e_pv)\n",
    "solar_wasted_inv_limit = solar_input - solar_limited\n",
    "print('to fix: solar_wasted_inv_limit needs to factor in battery charging')"
   ]
  },
  {
   "cell_type": "code",
   "execution_count": 4,
   "metadata": {},
   "outputs": [],
   "source": [
    "# System operating modes\n",
    "if hybrid_system:\n",
    "    if grid_on:\n",
    "        grid_export_max = grid_export_rating   #kW ac\n",
    "        grid_import_max = grid_import_rating   #kW ac\n",
    "        inverter_on = True\n",
    "    else:   #power cut\n",
    "        grid_export_max = 0 \n",
    "        grid_import_max = 0\n",
    "        inverter_on = True\n",
    "else:  #off-grid system\n",
    "    if grid_on and not(batt_high):\n",
    "        grid_export_max = 0 \n",
    "        grid_import_max = grid_import_rating\n",
    "        inverter_on = False\n",
    "    else:\n",
    "        grid_export_max = 0 \n",
    "        grid_import_max = 0\n",
    "        inverter_on = True"
   ]
  },
  {
   "cell_type": "code",
   "execution_count": 5,
   "metadata": {},
   "outputs": [],
   "source": [
    "# Solar balance, at solar_input, kW dc\n",
    "solar_for_load = min(load/e_inv/e_pv, solar_limited) * inverter_on\n",
    "solar_for_batt = min(solar_limited-solar_for_load, batt_ch_max/e_pv)\n",
    "solar_for_grid = min(solar_limited-solar_for_load-solar_for_batt, grid_export_max)\n",
    "solar = solar_for_load + solar_for_batt + solar_for_grid\n",
    "solar_wasted = solar_limited - solar"
   ]
  },
  {
   "cell_type": "code",
   "execution_count": 6,
   "metadata": {},
   "outputs": [],
   "source": [
    "# Load balance, at load, kW ac\n",
    "load_from_solar = solar_for_load*e_pv*e_inv\n",
    "load_from_batt_initial = min(-batt_dc_max, load - load_from_solar)*batt_high\n",
    "load_from_grid = min(grid_import_max, load - load_from_batt_initial - load_from_solar)\n",
    "load_from_batt = load - load_from_grid - load_from_solar"
   ]
  },
  {
   "cell_type": "code",
   "execution_count": 7,
   "metadata": {},
   "outputs": [],
   "source": [
    "# Battery balance, at battery input, kW dc\n",
    "# Charging\n",
    "batt_from_solar = solar_for_batt*e_pv\n",
    "if batt_high:\n",
    "    batt_ch_target = min(batt_ch_max,batt_from_solar)\n",
    "else:\n",
    "    batt_ch_target = batt_ch_max\n",
    "batt_from_grid = min(batt_ch_target - batt_from_solar, grid_ch_rating, (grid_import_max - load_from_grid)*e_gc)\n",
    "batt_ch = batt_from_solar + batt_from_grid\n",
    "\n",
    "# Discharging\n",
    "batt_dc = -load_from_batt/e_inv\n",
    "\n",
    "# Net\n",
    "if batt_ch > 0:\n",
    "    batt = batt_ch\n",
    "    batt_internal = batt_ch*e_bch\n",
    "else:\n",
    "    batt = batt_dc\n",
    "    batt_internal = batt_dc/e_bdc\n",
    "\n",
    "batt_energy_delta = batt_internal * time_inc\n",
    "batt_soc_new = batt_soc + batt_energy_delta / batt_capacity\n"
   ]
  },
  {
   "cell_type": "code",
   "execution_count": 8,
   "metadata": {},
   "outputs": [],
   "source": [
    "# Grid balance, at grid, ac\n",
    "grid_from_solar = solar_for_grid * e_pv * e_inv\n",
    "grid_for_load = load_from_grid\n",
    "grid_for_batt = batt_from_grid/e_gc\n",
    "grid = grid_for_batt + grid_for_load + grid_from_solar\n"
   ]
  },
  {
   "cell_type": "code",
   "execution_count": 9,
   "metadata": {},
   "outputs": [],
   "source": [
    "# Losses\n",
    "inverter_power_out = grid_from_solar + load_from_solar + load_from_batt\n",
    "inverter_power_in = inverter_power_out/e_inv\n",
    "\n",
    "loss_pv = solar*(1-e_pv)\n",
    "loss_gc = grid_for_batt*(1-e_gc)\n",
    "loss_inv = inverter_power_in*(1-e_inv)\n",
    "loss_batt = batt - batt_internal\n",
    "loss_total = loss_pv + loss_gc + loss_inv + loss_batt"
   ]
  },
  {
   "cell_type": "code",
   "execution_count": 10,
   "metadata": {},
   "outputs": [
    {
     "name": "stdout",
     "output_type": "stream",
     "text": [
      "156.04576749507999\n"
     ]
    },
    {
     "ename": "Exception",
     "evalue": "system zero-check failed",
     "output_type": "error",
     "traceback": [
      "\u001b[1;31m---------------------------------------------------------------------------\u001b[0m",
      "\u001b[1;31mException\u001b[0m                                 Traceback (most recent call last)",
      "\u001b[1;32mc:\\Users\\jdbas\\dev\\sf_case_studies\\basic\\test.ipynb Cell 10\u001b[0m in \u001b[0;36m<cell line: 26>\u001b[1;34m()\u001b[0m\n\u001b[0;32m     <a href='vscode-notebook-cell:/c%3A/Users/jdbas/dev/sf_case_studies/basic/test.ipynb#X12sZmlsZQ%3D%3D?line=25'>26</a>\u001b[0m \u001b[39mif\u001b[39;00m \u001b[39mabs\u001b[39m(system_check) \u001b[39m>\u001b[39m \u001b[39m0.000001\u001b[39m:\n\u001b[0;32m     <a href='vscode-notebook-cell:/c%3A/Users/jdbas/dev/sf_case_studies/basic/test.ipynb#X12sZmlsZQ%3D%3D?line=26'>27</a>\u001b[0m     \u001b[39mprint\u001b[39m(system_check)\n\u001b[1;32m---> <a href='vscode-notebook-cell:/c%3A/Users/jdbas/dev/sf_case_studies/basic/test.ipynb#X12sZmlsZQ%3D%3D?line=27'>28</a>\u001b[0m     \u001b[39mraise\u001b[39;00m \u001b[39mException\u001b[39;00m(\u001b[39m\"\u001b[39m\u001b[39msystem zero-check failed\u001b[39m\u001b[39m\"\u001b[39m)\n",
      "\u001b[1;31mException\u001b[0m: system zero-check failed"
     ]
    }
   ],
   "source": [
    "# Zero-sum checks\n",
    "# Load\n",
    "load_check = load - load_from_solar - load_from_batt - load_from_grid\n",
    "if load_check != 0:\n",
    "    raise Exception(\"load zero-check failed\")\n",
    "\n",
    "# Solar\n",
    "solar_check = solar_input - solar_wasted_inv_limit - solar_for_load - solar_for_batt - solar_for_grid - solar_wasted\n",
    "if solar_check != 0:\n",
    "    raise Exception(\"solar zero-check failed\")\n",
    "\n",
    "# Battery\n",
    "if batt < 0:\n",
    "    batt_check = batt_dc - loss_batt - batt_internal\n",
    "else:\n",
    "    batt_check = batt_ch - loss_batt - batt_internal\n",
    "if batt_check != 0:\n",
    "    raise Exception(\"batt zero-check failed\")\n",
    "\n",
    "# Grid\n",
    "grid_check = grid - grid_for_batt - grid_for_load - grid_from_solar\n",
    "if grid_check != 0:\n",
    "    raise Exception(\"grid zero-check failed\")\n",
    "\n",
    "system_check = solar + grid - load - batt_internal - loss_total\n",
    "if abs(system_check) > 0.000001:\n",
    "    print(system_check)\n",
    "    raise Exception(\"system zero-check failed\")"
   ]
  }
 ],
 "metadata": {
  "kernelspec": {
   "display_name": "Python 3",
   "language": "python",
   "name": "python3"
  },
  "language_info": {
   "codemirror_mode": {
    "name": "ipython",
    "version": 3
   },
   "file_extension": ".py",
   "mimetype": "text/x-python",
   "name": "python",
   "nbconvert_exporter": "python",
   "pygments_lexer": "ipython3",
   "version": "3.10.7"
  },
  "orig_nbformat": 4
 },
 "nbformat": 4,
 "nbformat_minor": 2
}
